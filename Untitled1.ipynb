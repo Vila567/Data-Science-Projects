{
 "cells": [
  {
   "cell_type": "markdown",
   "metadata": {},
   "source": [
    "# MATH2319 Machine Learning Project Phase 2\n",
    "## Hewayalage Vishva Abeyrathne (s3735195) & Iresh Udara Kaushalya (s3704769)\n",
    "### 09th June 2019"
   ]
  },
  {
   "cell_type": "markdown",
   "metadata": {},
   "source": [
    "# Predicting whether a bank customer will take a loan\n",
    "\n",
    "The main objective of this project is to perform model fitting and compare different classification models to predict whether a customer will take a loan or not using Thera bank data obtained from the Kaggle repository. The descriptive features include 6 numeric, 4 nominal categorical features and 2 ordinal categorical features. The target feature is consisted with 2 classes defined as \"yes\" and \"no\" respectively. The full dataset contains about 5K observations and it will consider for both training and testing phases.\n",
    "\n",
    "This report is organized as follows:\n",
    "- [Section 2 (Overview)](#2) outlines the methodology of the project. \n",
    "- [Section 3 (Data Preparation)](#3) summarizes the data preparation process, feature selection criteria and briefly states model evaluation strategy. \n",
    "- [Section 4 (Hyperparameter Tuning)](#4) focuses the hyperparameter tuning process for all classification models.\n",
    "- [Section 5 (Performance Comparison)](#5) compares performance of the models.\n",
    "- [Section 6 (Limitations)](#6) discusses identified limitations of the approach and suggests solutions. \n",
    "- [Section 7 (Summary)](#7) provides a brief summary of the work related to the project.\n"
   ]
  },
  {
   "cell_type": "markdown",
   "metadata": {},
   "source": [
    "# Overview <a class=\"anchor\" id=\"2\"></a> \n",
    "\n",
    "### Methodology\n",
    "\n",
    "Following binary classification models will be in use for predicting the class of the target variable.\n",
    "\n",
    "* K-Nearest Neighbors (KNN),\n",
    "* Decision trees (DT), and\n",
    "* Naive Bayes (NB).\n",
    "\n",
    "Pre-processed dataset from phase 1 is used to deal with the classification tasks in this particular phase. Model building approach begins by applying transformations for the pre-processed dataset. Transformations are consisted with encoding nominal and ordinal categorical features along with scaling of descriptive features. As the first main step of our approach, the dataset split in to training and testing with a ratio 0f 70:30. With that, we have 3500 observations for training while preserving 1500 observation for test data.\n",
    "\n",
    "Random Forest Importance method is used inside a pipeline to select the best possible features from the dataset before moving on to model fitting stage. After encoding categorical features (both nominal and ordinal), we performed feature selection with 10 and 12 (all features) features. \n",
    "\n",
    "5-fold stratified cross-validation is used to fine-tune hyperparameters of all 3 classification models in terms of AUC performance metric with a hyperparameter search inside a pipeline. Parallel processing is selected as \"-2\" cores in the model building phase. Since class imbalance or the number of observations for a class are not similar (negative class has more observations than positive class), stratification is used as the part of cross-validation to ensure that both the classes have almost same proportion of observations. \n",
    "\n",
    "After selecting the best model out of the three classification models with hyperparameter search on test data, we did 10-fold cross-validation on the test data. Then, performance of the models is assessed with the use of paired t-tests. Apart from that, evaluation strategy continues with performance matrices such as recall and precision.\n"
   ]
  },
  {
   "cell_type": "markdown",
   "metadata": {},
   "source": [
    "# Data Preparation <a class=\"anchor\" id=\"3\"></a> \n",
    "\n",
    "## Loading Dataset\n",
    "\n",
    "Dataset is loaded from the project directory and data types are observed to better understand the attributes. First five observations of the loaded dataset are displayed to check whether loaded data are equivalent to the source data. "
   ]
  },
  {
   "cell_type": "code",
   "execution_count": 1,
   "metadata": {},
   "outputs": [
    {
     "name": "stdout",
     "output_type": "stream",
     "text": [
      "Age                     int64\n",
      "Experience              int64\n",
      "Income                  int64\n",
      "ZIP Code                int64\n",
      "Family                 object\n",
      "CCAvg                 float64\n",
      "Education              object\n",
      "Mortgage                int64\n",
      "Personal Loan          object\n",
      "Securities Account     object\n",
      "CD Account             object\n",
      "Online                 object\n",
      "CreditCard             object\n",
      "dtype: object\n"
     ]
    },
    {
     "data": {
      "text/html": [
       "<div>\n",
       "<style scoped>\n",
       "    .dataframe tbody tr th:only-of-type {\n",
       "        vertical-align: middle;\n",
       "    }\n",
       "\n",
       "    .dataframe tbody tr th {\n",
       "        vertical-align: top;\n",
       "    }\n",
       "\n",
       "    .dataframe thead th {\n",
       "        text-align: right;\n",
       "    }\n",
       "</style>\n",
       "<table border=\"1\" class=\"dataframe\">\n",
       "  <thead>\n",
       "    <tr style=\"text-align: right;\">\n",
       "      <th></th>\n",
       "      <th>Age</th>\n",
       "      <th>Experience</th>\n",
       "      <th>Income</th>\n",
       "      <th>ZIP Code</th>\n",
       "      <th>Family</th>\n",
       "      <th>CCAvg</th>\n",
       "      <th>Education</th>\n",
       "      <th>Mortgage</th>\n",
       "      <th>Personal Loan</th>\n",
       "      <th>Securities Account</th>\n",
       "      <th>CD Account</th>\n",
       "      <th>Online</th>\n",
       "      <th>CreditCard</th>\n",
       "    </tr>\n",
       "  </thead>\n",
       "  <tbody>\n",
       "    <tr>\n",
       "      <th>0</th>\n",
       "      <td>25</td>\n",
       "      <td>1</td>\n",
       "      <td>49</td>\n",
       "      <td>91107</td>\n",
       "      <td>Four</td>\n",
       "      <td>1.6</td>\n",
       "      <td>Undergraduate</td>\n",
       "      <td>0</td>\n",
       "      <td>No</td>\n",
       "      <td>Yes</td>\n",
       "      <td>No</td>\n",
       "      <td>No</td>\n",
       "      <td>No</td>\n",
       "    </tr>\n",
       "    <tr>\n",
       "      <th>1</th>\n",
       "      <td>45</td>\n",
       "      <td>19</td>\n",
       "      <td>34</td>\n",
       "      <td>90089</td>\n",
       "      <td>Three</td>\n",
       "      <td>1.5</td>\n",
       "      <td>Undergraduate</td>\n",
       "      <td>0</td>\n",
       "      <td>No</td>\n",
       "      <td>Yes</td>\n",
       "      <td>No</td>\n",
       "      <td>No</td>\n",
       "      <td>No</td>\n",
       "    </tr>\n",
       "    <tr>\n",
       "      <th>2</th>\n",
       "      <td>39</td>\n",
       "      <td>15</td>\n",
       "      <td>11</td>\n",
       "      <td>94720</td>\n",
       "      <td>One</td>\n",
       "      <td>1.0</td>\n",
       "      <td>Undergraduate</td>\n",
       "      <td>0</td>\n",
       "      <td>No</td>\n",
       "      <td>No</td>\n",
       "      <td>No</td>\n",
       "      <td>No</td>\n",
       "      <td>No</td>\n",
       "    </tr>\n",
       "    <tr>\n",
       "      <th>3</th>\n",
       "      <td>35</td>\n",
       "      <td>9</td>\n",
       "      <td>100</td>\n",
       "      <td>94112</td>\n",
       "      <td>One</td>\n",
       "      <td>2.7</td>\n",
       "      <td>Graduate</td>\n",
       "      <td>0</td>\n",
       "      <td>No</td>\n",
       "      <td>No</td>\n",
       "      <td>No</td>\n",
       "      <td>No</td>\n",
       "      <td>No</td>\n",
       "    </tr>\n",
       "    <tr>\n",
       "      <th>4</th>\n",
       "      <td>35</td>\n",
       "      <td>8</td>\n",
       "      <td>45</td>\n",
       "      <td>91330</td>\n",
       "      <td>Four</td>\n",
       "      <td>1.0</td>\n",
       "      <td>Graduate</td>\n",
       "      <td>0</td>\n",
       "      <td>No</td>\n",
       "      <td>No</td>\n",
       "      <td>No</td>\n",
       "      <td>No</td>\n",
       "      <td>Yes</td>\n",
       "    </tr>\n",
       "  </tbody>\n",
       "</table>\n",
       "</div>"
      ],
      "text/plain": [
       "   Age  Experience  Income  ZIP Code Family  CCAvg      Education  Mortgage  \\\n",
       "0   25           1      49     91107   Four    1.6  Undergraduate         0   \n",
       "1   45          19      34     90089  Three    1.5  Undergraduate         0   \n",
       "2   39          15      11     94720    One    1.0  Undergraduate         0   \n",
       "3   35           9     100     94112    One    2.7       Graduate         0   \n",
       "4   35           8      45     91330   Four    1.0       Graduate         0   \n",
       "\n",
       "  Personal Loan Securities Account CD Account Online CreditCard  \n",
       "0            No                Yes         No     No         No  \n",
       "1            No                Yes         No     No         No  \n",
       "2            No                 No         No     No         No  \n",
       "3            No                 No         No     No         No  \n",
       "4            No                 No         No     No        Yes  "
      ]
     },
     "execution_count": 1,
     "metadata": {},
     "output_type": "execute_result"
    }
   ],
   "source": [
    "import pandas as pd\n",
    "\n",
    "BankLoan_p = 'BankLoan.csv'\n",
    "\n",
    "BankLoan = pd.read_csv(BankLoan_p, sep=',', decimal='.')\n",
    "\n",
    "print(BankLoan.dtypes)\n",
    "\n",
    "BankLoan.head(5) "
   ]
  },
  {
   "cell_type": "markdown",
   "metadata": {},
   "source": [
    "Dataset consists with 5000 observations and it has 12 descriptive features and the \"Personal Loan\" as the target feature."
   ]
  },
  {
   "cell_type": "markdown",
   "metadata": {},
   "source": [
    "## Checking for Missing Values\n",
    "\n",
    "It is important to make sure that there is no any missing value among all the attributes."
   ]
  },
  {
   "cell_type": "code",
   "execution_count": 2,
   "metadata": {},
   "outputs": [
    {
     "data": {
      "text/plain": [
       "Age                   0\n",
       "Experience            0\n",
       "Income                0\n",
       "ZIP Code              0\n",
       "Family                0\n",
       "CCAvg                 0\n",
       "Education             0\n",
       "Mortgage              0\n",
       "Personal Loan         0\n",
       "Securities Account    0\n",
       "CD Account            0\n",
       "Online                0\n",
       "CreditCard            0\n",
       "dtype: int64"
      ]
     },
     "execution_count": 2,
     "metadata": {},
     "output_type": "execute_result"
    }
   ],
   "source": [
    "BankLoan.isna().sum()"
   ]
  },
  {
   "cell_type": "markdown",
   "metadata": {},
   "source": [
    "## Summary Statistics\n",
    "\n",
    "Summary statistics for the dataset are observed as follow."
   ]
  },
  {
   "cell_type": "code",
   "execution_count": 3,
   "metadata": {},
   "outputs": [
    {
     "data": {
      "text/html": [
       "<div>\n",
       "<style scoped>\n",
       "    .dataframe tbody tr th:only-of-type {\n",
       "        vertical-align: middle;\n",
       "    }\n",
       "\n",
       "    .dataframe tbody tr th {\n",
       "        vertical-align: top;\n",
       "    }\n",
       "\n",
       "    .dataframe thead th {\n",
       "        text-align: right;\n",
       "    }\n",
       "</style>\n",
       "<table border=\"1\" class=\"dataframe\">\n",
       "  <thead>\n",
       "    <tr style=\"text-align: right;\">\n",
       "      <th></th>\n",
       "      <th>Age</th>\n",
       "      <th>Experience</th>\n",
       "      <th>Income</th>\n",
       "      <th>ZIP Code</th>\n",
       "      <th>Family</th>\n",
       "      <th>CCAvg</th>\n",
       "      <th>Education</th>\n",
       "      <th>Mortgage</th>\n",
       "      <th>Personal Loan</th>\n",
       "      <th>Securities Account</th>\n",
       "      <th>CD Account</th>\n",
       "      <th>Online</th>\n",
       "      <th>CreditCard</th>\n",
       "    </tr>\n",
       "  </thead>\n",
       "  <tbody>\n",
       "    <tr>\n",
       "      <th>count</th>\n",
       "      <td>5000.000000</td>\n",
       "      <td>5000.000000</td>\n",
       "      <td>5000.000000</td>\n",
       "      <td>5000.000000</td>\n",
       "      <td>5000</td>\n",
       "      <td>5000.000000</td>\n",
       "      <td>5000</td>\n",
       "      <td>5000.000000</td>\n",
       "      <td>5000</td>\n",
       "      <td>5000</td>\n",
       "      <td>5000</td>\n",
       "      <td>5000</td>\n",
       "      <td>5000</td>\n",
       "    </tr>\n",
       "    <tr>\n",
       "      <th>unique</th>\n",
       "      <td>NaN</td>\n",
       "      <td>NaN</td>\n",
       "      <td>NaN</td>\n",
       "      <td>NaN</td>\n",
       "      <td>4</td>\n",
       "      <td>NaN</td>\n",
       "      <td>3</td>\n",
       "      <td>NaN</td>\n",
       "      <td>2</td>\n",
       "      <td>2</td>\n",
       "      <td>2</td>\n",
       "      <td>2</td>\n",
       "      <td>2</td>\n",
       "    </tr>\n",
       "    <tr>\n",
       "      <th>top</th>\n",
       "      <td>NaN</td>\n",
       "      <td>NaN</td>\n",
       "      <td>NaN</td>\n",
       "      <td>NaN</td>\n",
       "      <td>One</td>\n",
       "      <td>NaN</td>\n",
       "      <td>Undergraduate</td>\n",
       "      <td>NaN</td>\n",
       "      <td>No</td>\n",
       "      <td>No</td>\n",
       "      <td>No</td>\n",
       "      <td>Yes</td>\n",
       "      <td>No</td>\n",
       "    </tr>\n",
       "    <tr>\n",
       "      <th>freq</th>\n",
       "      <td>NaN</td>\n",
       "      <td>NaN</td>\n",
       "      <td>NaN</td>\n",
       "      <td>NaN</td>\n",
       "      <td>1472</td>\n",
       "      <td>NaN</td>\n",
       "      <td>2096</td>\n",
       "      <td>NaN</td>\n",
       "      <td>4520</td>\n",
       "      <td>4478</td>\n",
       "      <td>4698</td>\n",
       "      <td>2984</td>\n",
       "      <td>3530</td>\n",
       "    </tr>\n",
       "    <tr>\n",
       "      <th>mean</th>\n",
       "      <td>45.338400</td>\n",
       "      <td>20.134600</td>\n",
       "      <td>73.774200</td>\n",
       "      <td>93152.503000</td>\n",
       "      <td>NaN</td>\n",
       "      <td>1.937913</td>\n",
       "      <td>NaN</td>\n",
       "      <td>56.498800</td>\n",
       "      <td>NaN</td>\n",
       "      <td>NaN</td>\n",
       "      <td>NaN</td>\n",
       "      <td>NaN</td>\n",
       "      <td>NaN</td>\n",
       "    </tr>\n",
       "    <tr>\n",
       "      <th>std</th>\n",
       "      <td>11.463166</td>\n",
       "      <td>11.415189</td>\n",
       "      <td>46.033729</td>\n",
       "      <td>2121.852197</td>\n",
       "      <td>NaN</td>\n",
       "      <td>1.747666</td>\n",
       "      <td>NaN</td>\n",
       "      <td>101.713802</td>\n",
       "      <td>NaN</td>\n",
       "      <td>NaN</td>\n",
       "      <td>NaN</td>\n",
       "      <td>NaN</td>\n",
       "      <td>NaN</td>\n",
       "    </tr>\n",
       "    <tr>\n",
       "      <th>min</th>\n",
       "      <td>23.000000</td>\n",
       "      <td>0.000000</td>\n",
       "      <td>8.000000</td>\n",
       "      <td>9307.000000</td>\n",
       "      <td>NaN</td>\n",
       "      <td>0.000000</td>\n",
       "      <td>NaN</td>\n",
       "      <td>0.000000</td>\n",
       "      <td>NaN</td>\n",
       "      <td>NaN</td>\n",
       "      <td>NaN</td>\n",
       "      <td>NaN</td>\n",
       "      <td>NaN</td>\n",
       "    </tr>\n",
       "    <tr>\n",
       "      <th>25%</th>\n",
       "      <td>35.000000</td>\n",
       "      <td>10.000000</td>\n",
       "      <td>39.000000</td>\n",
       "      <td>91911.000000</td>\n",
       "      <td>NaN</td>\n",
       "      <td>0.700000</td>\n",
       "      <td>NaN</td>\n",
       "      <td>0.000000</td>\n",
       "      <td>NaN</td>\n",
       "      <td>NaN</td>\n",
       "      <td>NaN</td>\n",
       "      <td>NaN</td>\n",
       "      <td>NaN</td>\n",
       "    </tr>\n",
       "    <tr>\n",
       "      <th>50%</th>\n",
       "      <td>45.000000</td>\n",
       "      <td>20.000000</td>\n",
       "      <td>64.000000</td>\n",
       "      <td>93437.000000</td>\n",
       "      <td>NaN</td>\n",
       "      <td>1.500000</td>\n",
       "      <td>NaN</td>\n",
       "      <td>0.000000</td>\n",
       "      <td>NaN</td>\n",
       "      <td>NaN</td>\n",
       "      <td>NaN</td>\n",
       "      <td>NaN</td>\n",
       "      <td>NaN</td>\n",
       "    </tr>\n",
       "    <tr>\n",
       "      <th>75%</th>\n",
       "      <td>55.000000</td>\n",
       "      <td>30.000000</td>\n",
       "      <td>98.000000</td>\n",
       "      <td>94608.000000</td>\n",
       "      <td>NaN</td>\n",
       "      <td>2.500000</td>\n",
       "      <td>NaN</td>\n",
       "      <td>101.000000</td>\n",
       "      <td>NaN</td>\n",
       "      <td>NaN</td>\n",
       "      <td>NaN</td>\n",
       "      <td>NaN</td>\n",
       "      <td>NaN</td>\n",
       "    </tr>\n",
       "    <tr>\n",
       "      <th>max</th>\n",
       "      <td>67.000000</td>\n",
       "      <td>43.000000</td>\n",
       "      <td>224.000000</td>\n",
       "      <td>96651.000000</td>\n",
       "      <td>NaN</td>\n",
       "      <td>10.000000</td>\n",
       "      <td>NaN</td>\n",
       "      <td>635.000000</td>\n",
       "      <td>NaN</td>\n",
       "      <td>NaN</td>\n",
       "      <td>NaN</td>\n",
       "      <td>NaN</td>\n",
       "      <td>NaN</td>\n",
       "    </tr>\n",
       "  </tbody>\n",
       "</table>\n",
       "</div>"
      ],
      "text/plain": [
       "                Age   Experience       Income      ZIP Code Family  \\\n",
       "count   5000.000000  5000.000000  5000.000000   5000.000000   5000   \n",
       "unique          NaN          NaN          NaN           NaN      4   \n",
       "top             NaN          NaN          NaN           NaN    One   \n",
       "freq            NaN          NaN          NaN           NaN   1472   \n",
       "mean      45.338400    20.134600    73.774200  93152.503000    NaN   \n",
       "std       11.463166    11.415189    46.033729   2121.852197    NaN   \n",
       "min       23.000000     0.000000     8.000000   9307.000000    NaN   \n",
       "25%       35.000000    10.000000    39.000000  91911.000000    NaN   \n",
       "50%       45.000000    20.000000    64.000000  93437.000000    NaN   \n",
       "75%       55.000000    30.000000    98.000000  94608.000000    NaN   \n",
       "max       67.000000    43.000000   224.000000  96651.000000    NaN   \n",
       "\n",
       "              CCAvg      Education     Mortgage Personal Loan  \\\n",
       "count   5000.000000           5000  5000.000000          5000   \n",
       "unique          NaN              3          NaN             2   \n",
       "top             NaN  Undergraduate          NaN            No   \n",
       "freq            NaN           2096          NaN          4520   \n",
       "mean       1.937913            NaN    56.498800           NaN   \n",
       "std        1.747666            NaN   101.713802           NaN   \n",
       "min        0.000000            NaN     0.000000           NaN   \n",
       "25%        0.700000            NaN     0.000000           NaN   \n",
       "50%        1.500000            NaN     0.000000           NaN   \n",
       "75%        2.500000            NaN   101.000000           NaN   \n",
       "max       10.000000            NaN   635.000000           NaN   \n",
       "\n",
       "       Securities Account CD Account Online CreditCard  \n",
       "count                5000       5000   5000       5000  \n",
       "unique                  2          2      2          2  \n",
       "top                    No         No    Yes         No  \n",
       "freq                 4478       4698   2984       3530  \n",
       "mean                  NaN        NaN    NaN        NaN  \n",
       "std                   NaN        NaN    NaN        NaN  \n",
       "min                   NaN        NaN    NaN        NaN  \n",
       "25%                   NaN        NaN    NaN        NaN  \n",
       "50%                   NaN        NaN    NaN        NaN  \n",
       "75%                   NaN        NaN    NaN        NaN  \n",
       "max                   NaN        NaN    NaN        NaN  "
      ]
     },
     "execution_count": 3,
     "metadata": {},
     "output_type": "execute_result"
    }
   ],
   "source": [
    "BankLoan.describe(include='all')"
   ]
  },
  {
   "cell_type": "markdown",
   "metadata": {},
   "source": [
    "## Encoding Categorical Features\n",
    "\n",
    "Encoding of all categorical features in to numerical features including nominal and ordinal is mandatory Prior to modelling building.\n",
    "\n",
    "### Encoding the Target Feature\n",
    "\"Persona Loan\" feature is removed from the dataset and named it as \"target\", since it is the target feature. Then other features apart from target feature are named as \"Data\"."
   ]
  },
  {
   "cell_type": "code",
   "execution_count": 4,
   "metadata": {},
   "outputs": [
    {
     "data": {
      "text/plain": [
       "No     4520\n",
       "Yes     480\n",
       "Name: Personal Loan, dtype: int64"
      ]
     },
     "execution_count": 4,
     "metadata": {},
     "output_type": "execute_result"
    }
   ],
   "source": [
    "Data = BankLoan.drop(columns='Personal Loan')\n",
    "target = BankLoan['Personal Loan']\n",
    "target.value_counts()"
   ]
  },
  {
   "cell_type": "markdown",
   "metadata": {},
   "source": [
    "Target feature is encoded in a way that positive class is 1 \"where it states that customer is going for the Loan\"."
   ]
  },
  {
   "cell_type": "code",
   "execution_count": 5,
   "metadata": {},
   "outputs": [
    {
     "data": {
      "text/plain": [
       "0    4520\n",
       "1     480\n",
       "Name: Personal Loan, dtype: int64"
      ]
     },
     "execution_count": 5,
     "metadata": {},
     "output_type": "execute_result"
    }
   ],
   "source": [
    "target = target.replace({'No': 0, 'Yes': 1})\n",
    "target.value_counts()"
   ]
  },
  {
   "cell_type": "markdown",
   "metadata": {},
   "source": [
    "It can be observed that classes are imbalanced in the target feature.\n"
   ]
  },
  {
   "cell_type": "markdown",
   "metadata": {},
   "source": [
    "### Encoding Ordinal Categorical Features\n",
    "\n",
    "Numeric Encoding or label encoding is used to convert two ordinal features such as \"Family\" and \"Education\" in the dataset in to numerical variables."
   ]
  },
  {
   "cell_type": "code",
   "execution_count": 6,
   "metadata": {},
   "outputs": [
    {
     "data": {
      "text/plain": [
       "1    2096\n",
       "3    1501\n",
       "2    1403\n",
       "Name: Education, dtype: int64"
      ]
     },
     "execution_count": 6,
     "metadata": {},
     "output_type": "execute_result"
    }
   ],
   "source": [
    "Data['Family'] = Data['Family'].replace({'One': 1, 'Two': 2,'Three': 3, 'Four': 4})\n",
    "Data['Family'].value_counts()\n",
    "\n",
    "Data['Education'] = Data['Education'].replace({'Undergraduate': 1, 'Graduate': 2,'Advanced': 3})\n",
    "Data['Education'].value_counts()\n",
    "\n"
   ]
  },
  {
   "cell_type": "markdown",
   "metadata": {},
   "source": [
    "### Encoding Categorical Descriptive Features\n",
    "\n",
    "One-hot coding is used here to convert all nominal categorical features in to numerical features. Further, dummy variables are defined for all those features in order to perform feature selection in next stages. \"Zip Code\" feature which appears to be numerical, but actually it is a nominal categorical feature. Therefore, it is also considered for encoding here as well.\n"
   ]
  },
  {
   "cell_type": "code",
   "execution_count": 7,
   "metadata": {},
   "outputs": [
    {
     "name": "stdout",
     "output_type": "stream",
     "text": [
      "Age                     int64\n",
      "Experience              int64\n",
      "Income                  int64\n",
      "ZIP Code                int64\n",
      "Family                  int64\n",
      "CCAvg                 float64\n",
      "Education               int64\n",
      "Mortgage                int64\n",
      "Securities Account      uint8\n",
      "CD Account              uint8\n",
      "Online                  uint8\n",
      "CreditCard              uint8\n",
      "dtype: object\n"
     ]
    }
   ],
   "source": [
    "nominal_cols = ['ZIP Code','Securities Account','CD Account','Online','CreditCard']\n",
    "\n",
    "for col in nominal_cols:\n",
    "    n = len(Data[col].unique())\n",
    "    if (n == 2):\n",
    "        Data[col] = pd.get_dummies(Data[col], drop_first=True)\n",
    "\n",
    "Data = pd.get_dummies(Data)\n",
    "\n",
    "Data.sample(5, random_state=999)\n",
    "print(Data.dtypes)\n",
    "\n"
   ]
  },
  {
   "cell_type": "markdown",
   "metadata": {},
   "source": [
    "## Scaling of Features\n",
    "\n",
    "Min-max scaling is performed for all the descriptive feature after encoding categorical features. Prior to deal with that, a copy of the dataset is taken.\n"
   ]
  },
  {
   "cell_type": "code",
   "execution_count": 8,
   "metadata": {},
   "outputs": [
    {
     "name": "stderr",
     "output_type": "stream",
     "text": [
      "/Users/vishvaabeyrathne/anaconda3/lib/python3.7/site-packages/sklearn/preprocessing/data.py:334: DataConversionWarning: Data with input dtype uint8, int64, float64 were all converted to float64 by MinMaxScaler.\n",
      "  return self.partial_fit(X, y)\n",
      "/Users/vishvaabeyrathne/anaconda3/lib/python3.7/site-packages/sklearn/preprocessing/data.py:334: DataConversionWarning: Data with input dtype uint8, int64, float64 were all converted to float64 by MinMaxScaler.\n",
      "  return self.partial_fit(X, y)\n"
     ]
    }
   ],
   "source": [
    "#Feature Scaling\n",
    "\n",
    "from sklearn import preprocessing\n",
    "\n",
    "Data_df = Data.copy()\n",
    "\n",
    "Data_scaler = preprocessing.MinMaxScaler()\n",
    "Data_scaler.fit(Data)\n",
    "Data = Data_scaler.fit_transform(Data)"
   ]
  },
  {
   "cell_type": "markdown",
   "metadata": {},
   "source": [
    "After the scaling, some random observations of the dataset can be observed as follow."
   ]
  },
  {
   "cell_type": "code",
   "execution_count": 9,
   "metadata": {},
   "outputs": [
    {
     "data": {
      "text/html": [
       "<div>\n",
       "<style scoped>\n",
       "    .dataframe tbody tr th:only-of-type {\n",
       "        vertical-align: middle;\n",
       "    }\n",
       "\n",
       "    .dataframe tbody tr th {\n",
       "        vertical-align: top;\n",
       "    }\n",
       "\n",
       "    .dataframe thead th {\n",
       "        text-align: right;\n",
       "    }\n",
       "</style>\n",
       "<table border=\"1\" class=\"dataframe\">\n",
       "  <thead>\n",
       "    <tr style=\"text-align: right;\">\n",
       "      <th></th>\n",
       "      <th>Age</th>\n",
       "      <th>Experience</th>\n",
       "      <th>Income</th>\n",
       "      <th>ZIP Code</th>\n",
       "      <th>Family</th>\n",
       "      <th>CCAvg</th>\n",
       "      <th>Education</th>\n",
       "      <th>Mortgage</th>\n",
       "      <th>Securities Account</th>\n",
       "      <th>CD Account</th>\n",
       "      <th>Online</th>\n",
       "      <th>CreditCard</th>\n",
       "    </tr>\n",
       "  </thead>\n",
       "  <tbody>\n",
       "    <tr>\n",
       "      <th>3581</th>\n",
       "      <td>0.113636</td>\n",
       "      <td>0.093023</td>\n",
       "      <td>0.115741</td>\n",
       "      <td>0.939080</td>\n",
       "      <td>0.666667</td>\n",
       "      <td>0.10</td>\n",
       "      <td>0.5</td>\n",
       "      <td>0.000000</td>\n",
       "      <td>0.0</td>\n",
       "      <td>0.0</td>\n",
       "      <td>0.0</td>\n",
       "      <td>1.0</td>\n",
       "    </tr>\n",
       "    <tr>\n",
       "      <th>3035</th>\n",
       "      <td>0.613636</td>\n",
       "      <td>0.558140</td>\n",
       "      <td>0.106481</td>\n",
       "      <td>0.981716</td>\n",
       "      <td>0.000000</td>\n",
       "      <td>0.03</td>\n",
       "      <td>1.0</td>\n",
       "      <td>0.000000</td>\n",
       "      <td>0.0</td>\n",
       "      <td>0.0</td>\n",
       "      <td>0.0</td>\n",
       "      <td>0.0</td>\n",
       "    </tr>\n",
       "    <tr>\n",
       "      <th>2455</th>\n",
       "      <td>0.250000</td>\n",
       "      <td>0.186047</td>\n",
       "      <td>0.722222</td>\n",
       "      <td>0.977892</td>\n",
       "      <td>1.000000</td>\n",
       "      <td>0.74</td>\n",
       "      <td>1.0</td>\n",
       "      <td>0.000000</td>\n",
       "      <td>0.0</td>\n",
       "      <td>0.0</td>\n",
       "      <td>1.0</td>\n",
       "      <td>0.0</td>\n",
       "    </tr>\n",
       "    <tr>\n",
       "      <th>3014</th>\n",
       "      <td>0.840909</td>\n",
       "      <td>0.790698</td>\n",
       "      <td>0.148148</td>\n",
       "      <td>0.938862</td>\n",
       "      <td>0.000000</td>\n",
       "      <td>0.25</td>\n",
       "      <td>1.0</td>\n",
       "      <td>0.261417</td>\n",
       "      <td>0.0</td>\n",
       "      <td>0.0</td>\n",
       "      <td>1.0</td>\n",
       "      <td>0.0</td>\n",
       "    </tr>\n",
       "    <tr>\n",
       "      <th>3114</th>\n",
       "      <td>0.136364</td>\n",
       "      <td>0.093023</td>\n",
       "      <td>0.217593</td>\n",
       "      <td>0.924128</td>\n",
       "      <td>1.000000</td>\n",
       "      <td>0.20</td>\n",
       "      <td>0.5</td>\n",
       "      <td>0.000000</td>\n",
       "      <td>1.0</td>\n",
       "      <td>0.0</td>\n",
       "      <td>1.0</td>\n",
       "      <td>0.0</td>\n",
       "    </tr>\n",
       "  </tbody>\n",
       "</table>\n",
       "</div>"
      ],
      "text/plain": [
       "           Age  Experience    Income  ZIP Code    Family  CCAvg  Education  \\\n",
       "3581  0.113636    0.093023  0.115741  0.939080  0.666667   0.10        0.5   \n",
       "3035  0.613636    0.558140  0.106481  0.981716  0.000000   0.03        1.0   \n",
       "2455  0.250000    0.186047  0.722222  0.977892  1.000000   0.74        1.0   \n",
       "3014  0.840909    0.790698  0.148148  0.938862  0.000000   0.25        1.0   \n",
       "3114  0.136364    0.093023  0.217593  0.924128  1.000000   0.20        0.5   \n",
       "\n",
       "      Mortgage  Securities Account  CD Account  Online  CreditCard  \n",
       "3581  0.000000                 0.0         0.0     0.0         1.0  \n",
       "3035  0.000000                 0.0         0.0     0.0         0.0  \n",
       "2455  0.000000                 0.0         0.0     1.0         0.0  \n",
       "3014  0.261417                 0.0         0.0     1.0         0.0  \n",
       "3114  0.000000                 1.0         0.0     1.0         0.0  "
      ]
     },
     "execution_count": 9,
     "metadata": {},
     "output_type": "execute_result"
    }
   ],
   "source": [
    "pd.DataFrame(Data, columns=Data_df.columns).sample(5, random_state=999)"
   ]
  },
  {
   "cell_type": "markdown",
   "metadata": {},
   "source": [
    "## Feature Selection & Ranking\n",
    "\n",
    "Most 10 features from the dataset are selected by Random Forest Importance (RFI) as it will identify the features which have more prediction power towards the final outcome. In the hyperparameter tuning phase, all the features will be considered to find out the best possible features works with classifiers.\n"
   ]
  },
  {
   "cell_type": "code",
   "execution_count": 10,
   "metadata": {},
   "outputs": [
    {
     "data": {
      "text/plain": [
       "array(['Income', 'Education', 'CCAvg', 'Family', 'CD Account',\n",
       "       'Experience', 'ZIP Code', 'Age', 'Mortgage', 'CreditCard',\n",
       "       'Online', 'Securities Account'], dtype=object)"
      ]
     },
     "execution_count": 10,
     "metadata": {},
     "output_type": "execute_result"
    }
   ],
   "source": [
    "import numpy as np\n",
    "from sklearn.ensemble import RandomForestClassifier\n",
    "\n",
    "num_features = 12\n",
    "model_rfi = RandomForestClassifier(n_estimators=100)\n",
    "model_rfi.fit(Data, target)\n",
    "fs_indices_rfi = np.argsort(model_rfi.feature_importances_)[::-1][0:num_features]\n",
    "\n",
    "best_features_rfi = Data_df.columns[fs_indices_rfi].values\n",
    "best_features_rfi"
   ]
  },
  {
   "cell_type": "code",
   "execution_count": 11,
   "metadata": {},
   "outputs": [
    {
     "data": {
      "text/plain": [
       "array([0.33040087, 0.19787605, 0.14509669, 0.12047703, 0.05242219,\n",
       "       0.03465263, 0.0345601 , 0.03340847, 0.03215509, 0.00817082,\n",
       "       0.00662059, 0.00415947])"
      ]
     },
     "execution_count": 11,
     "metadata": {},
     "output_type": "execute_result"
    }
   ],
   "source": [
    "feature_importances_rfi = model_rfi.feature_importances_[fs_indices_rfi]\n",
    "feature_importances_rfi"
   ]
  },
  {
   "cell_type": "markdown",
   "metadata": {},
   "source": [
    "Features are displayed in an array according to the order of the RFI and \"Income\" feature has the most significant effect towards the final outcome out of all the features."
   ]
  },
  {
   "cell_type": "markdown",
   "metadata": {},
   "source": [
    "Significance of the features according to RFI is visualized using \"Altair\" package as follow."
   ]
  },
  {
   "cell_type": "code",
   "execution_count": 12,
   "metadata": {},
   "outputs": [],
   "source": [
    "import altair as alt\n",
    "alt.renderers.enable('notebook')\n",
    "\n",
    "def plot_imp(best_features, scores, method_name, color):\n",
    "    \n",
    "    df = pd.DataFrame({'features': best_features, \n",
    "                       'importances': scores})\n",
    "    \n",
    "    chart = alt.Chart(df, \n",
    "                      width=500, \n",
    "                      title=method_name + ' Feature Importances'\n",
    "                     ).mark_bar(opacity=0.85, \n",
    "                                color=color).encode(\n",
    "        alt.X('features', title='Feature', sort=None, axis=alt.AxisConfig(labelAngle=45)),\n",
    "        alt.Y('importances', title='Importance')\n",
    "    )\n",
    "    \n",
    "    return chart"
   ]
  },
  {
   "cell_type": "code",
   "execution_count": 13,
   "metadata": {},
   "outputs": [
    {
     "data": {
      "application/javascript": [
       "var spec = {\"config\": {\"view\": {\"width\": 400, \"height\": 300}, \"mark\": {\"tooltip\": null}}, \"data\": {\"name\": \"data-884324adb1d1e64d80b248d6711e37df\"}, \"mark\": {\"type\": \"bar\", \"color\": \"blue\", \"opacity\": 0.85}, \"encoding\": {\"x\": {\"type\": \"nominal\", \"axis\": {\"labelAngle\": 45}, \"field\": \"features\", \"sort\": null, \"title\": \"Feature\"}, \"y\": {\"type\": \"quantitative\", \"field\": \"importances\", \"title\": \"Importance\"}}, \"title\": \"Random Forest Feature Importances\", \"width\": 500, \"$schema\": \"https://vega.github.io/schema/vega-lite/v3.2.1.json\", \"datasets\": {\"data-884324adb1d1e64d80b248d6711e37df\": [{\"features\": \"Income\", \"importances\": 0.33040086829601584}, {\"features\": \"Education\", \"importances\": 0.19787605373549946}, {\"features\": \"CCAvg\", \"importances\": 0.14509669338062087}, {\"features\": \"Family\", \"importances\": 0.12047702558471438}, {\"features\": \"CD Account\", \"importances\": 0.05242219285529552}, {\"features\": \"Experience\", \"importances\": 0.03465263305022056}, {\"features\": \"ZIP Code\", \"importances\": 0.03456010445953759}, {\"features\": \"Age\", \"importances\": 0.03340846864312996}, {\"features\": \"Mortgage\", \"importances\": 0.03215508714737388}, {\"features\": \"CreditCard\", \"importances\": 0.008170820734138098}, {\"features\": \"Online\", \"importances\": 0.006620585854239093}, {\"features\": \"Securities Account\", \"importances\": 0.004159466259214681}]}};\n",
       "var opt = {};\n",
       "var type = \"vega-lite\";\n",
       "var id = \"fdd47ccc-70b5-4368-9b32-326b538f3387\";\n",
       "\n",
       "var output_area = this;\n",
       "\n",
       "require([\"nbextensions/jupyter-vega/index\"], function(vega) {\n",
       "  var target = document.createElement(\"div\");\n",
       "  target.id = id;\n",
       "  target.className = \"vega-embed\";\n",
       "\n",
       "  var style = document.createElement(\"style\");\n",
       "  style.textContent = [\n",
       "    \".vega-embed .error p {\",\n",
       "    \"  color: firebrick;\",\n",
       "    \"  font-size: 14px;\",\n",
       "    \"}\",\n",
       "  ].join(\"\\\\n\");\n",
       "\n",
       "  // element is a jQuery wrapped DOM element inside the output area\n",
       "  // see http://ipython.readthedocs.io/en/stable/api/generated/\\\n",
       "  // IPython.display.html#IPython.display.Javascript.__init__\n",
       "  element[0].appendChild(target);\n",
       "  element[0].appendChild(style);\n",
       "\n",
       "  vega.render(\"#\" + id, spec, type, opt, output_area);\n",
       "}, function (err) {\n",
       "  if (err.requireType !== \"scripterror\") {\n",
       "    throw(err);\n",
       "  }\n",
       "});\n"
      ],
      "text/plain": [
       "<vega.vegalite.VegaLite at 0x1a1ec87978>"
      ]
     },
     "metadata": {
      "jupyter-vega": "#fdd47ccc-70b5-4368-9b32-326b538f3387"
     },
     "output_type": "display_data"
    },
    {
     "data": {
      "text/plain": []
     },
     "execution_count": 13,
     "metadata": {},
     "output_type": "execute_result"
    },
    {
     "data": {
      "image/png": "[encoded data removed]"
     },
     "metadata": {
      "jupyter-vega": "#fdd47ccc-70b5-4368-9b32-326b538f3387"
     },
     "output_type": "display_data"
    }
   ],
   "source": [
    "plot_imp(best_features_rfi, feature_importances_rfi, 'Random Forest', 'blue')"
   ]
  },
  {
   "cell_type": "markdown",
   "metadata": {},
   "source": [
    "It is obvious that out of all the features, \"Income\", \"Education\", \"CCAvg\" and \"Family\" have the best impact towards the final prediction outcome in order to find out whether a customer applies for a loan or not."
   ]
  },
  {
   "cell_type": "markdown",
   "metadata": {},
   "source": [
    "## Data Sampling & Train-Test Splitting\n",
    "\n",
    "Original dataset contains 5000 rows as observations and all those observations are in use without taking a sample out of it, since the dataset is not too large.\n",
    "\n",
    "Then dataset is split in to training data and testing data with a ratio 0f 70:30 using stratification. \n",
    "\n"
   ]
  },
  {
   "cell_type": "code",
   "execution_count": 14,
   "metadata": {},
   "outputs": [
    {
     "name": "stdout",
     "output_type": "stream",
     "text": [
      "(3500, 12)\n",
      "(1500, 12)\n"
     ]
    }
   ],
   "source": [
    "from sklearn.model_selection import train_test_split\n",
    "\n",
    "Data_train, Data_test, \\\n",
    "target_train, target_test = train_test_split(Data,target, \n",
    "                                                    test_size = 0.3, random_state=999,\n",
    "                                                    stratify = target)\n",
    "\n",
    "print(Data_train.shape)\n",
    "print(Data_test.shape)"
   ]
  },
  {
   "cell_type": "markdown",
   "metadata": {},
   "source": [
    "## Model Evaluation Strategy\n",
    "\n",
    "So, we will train and tune our models on 14K rows of training data, and we will test them on 6K rows of test data. \n",
    "\n",
    "As specified in the last section, 3500 rows will be in use for training whereas 1500 row are in for testing the performance of each classification model.\n",
    "\n",
    "5-fold stratified cross-validation method will be used hyperparameter tuning."
   ]
  },
  {
   "cell_type": "code",
   "execution_count": 15,
   "metadata": {},
   "outputs": [],
   "source": [
    "\n",
    "from sklearn.model_selection import StratifiedKFold, GridSearchCV\n",
    "\n",
    "cv_method = StratifiedKFold(n_splits=5, random_state=999)"
   ]
  },
  {
   "cell_type": "markdown",
   "metadata": {},
   "source": [
    "# Hyperparameter Tuning <a class=\"anchor\" id=\"4\"></a> \n",
    "\n",
    "## K-Nearest Neighbors (KNN)"
   ]
  },
  {
   "cell_type": "markdown",
   "metadata": {},
   "source": [
    "Using `Pipeline`, we stack feature selection and grid search for KNN hyperparameter tuning via cross-validation. We will use the same `Pipeline` methodology for NB and DT.\n",
    "\n",
    "We use `Pipeline` to perform feature selection and grid search for KNN hyperparameter tuning via cross-validation. Same `Pipeline`will be in use for other classification models as well.\n",
    "\n",
    "Following are the KNN hyperparameters,\n",
    "\n",
    "* the distance metric `p`.\n",
    "* number of neighbours (`n_neighbors`) \n",
    "\n",
    "Random Forest Importance (RFI) is used with 100 estimators for feature selection and it is considered as a part of the `Pipeline` \n"
   ]
  },
  {
   "cell_type": "code",
   "execution_count": 16,
   "metadata": {},
   "outputs": [],
   "source": [
    "from sklearn.base import BaseEstimator, TransformerMixin\n",
    "\n",
    "# custom function for RFI feature selection inside a pipeline\n",
    "# here we use n_estimators=100\n",
    "class RFIFeatureSelector(BaseEstimator, TransformerMixin):\n",
    "    \n",
    "    # class constructor \n",
    "    # make sure class attributes end with a \"_\"\n",
    "    # per scikit-learn convention to avoid errors\n",
    "    def __init__(self, n_features_=10):\n",
    "        self.n_features_ = n_features_\n",
    "        self.fs_indices_ = None\n",
    "\n",
    "    # override the fit function\n",
    "    def fit(self, X, y):\n",
    "        from sklearn.ensemble import RandomForestClassifier\n",
    "        from numpy import argsort\n",
    "        model_rfi = RandomForestClassifier(n_estimators=100)\n",
    "        model_rfi.fit(X, y)\n",
    "        self.fs_indices_ = argsort(model_rfi.feature_importances_)[::-1][0:self.n_features_] \n",
    "        return self \n",
    "    \n",
    "    # override the transform function\n",
    "    def transform(self, X, y=None):\n",
    "        return X[:, self.fs_indices_]"
   ]
  },
  {
   "cell_type": "code",
   "execution_count": 17,
   "metadata": {},
   "outputs": [],
   "source": [
    "from sklearn.pipeline import Pipeline\n",
    "from sklearn.neighbors import KNeighborsClassifier\n",
    "\n",
    "pipe_KNN = Pipeline(steps=[('rfi_fs', RFIFeatureSelector()), \n",
    "                           ('knn', KNeighborsClassifier())])\n",
    "\n",
    "params_pipe_KNN = {'rfi_fs__n_features_': [10, 20, Data.shape[1]],\n",
    "                   'knn__n_neighbors': [1, 10, 20, 40, 60, 100],\n",
    "                   'knn__p': [1, 2]}\n",
    "\n",
    "gs_pipe_KNN = GridSearchCV(estimator=pipe_KNN, \n",
    "                           param_grid=params_pipe_KNN, \n",
    "                           cv=cv_method,\n",
    "                           refit=True,\n",
    "                           n_jobs=-2,\n",
    "                           scoring='roc_auc',\n",
    "                           verbose=1) "
   ]
  },
  {
   "cell_type": "code",
   "execution_count": 18,
   "metadata": {},
   "outputs": [
    {
     "name": "stdout",
     "output_type": "stream",
     "text": [
      "Fitting 5 folds for each of 36 candidates, totalling 180 fits\n"
     ]
    },
    {
     "name": "stderr",
     "output_type": "stream",
     "text": [
      "[Parallel(n_jobs=-2)]: Using backend LokyBackend with 3 concurrent workers.\n",
      "[Parallel(n_jobs=-2)]: Done  44 tasks      | elapsed:    5.8s\n",
      "[Parallel(n_jobs=-2)]: Done 180 out of 180 | elapsed:   26.9s finished\n"
     ]
    }
   ],
   "source": [
    "gs_pipe_KNN.fit(Data_train, target_train);"
   ]
  },
  {
   "cell_type": "code",
   "execution_count": 19,
   "metadata": {},
   "outputs": [
    {
     "data": {
      "text/plain": [
       "{'knn__n_neighbors': 100, 'knn__p': 1, 'rfi_fs__n_features_': 10}"
      ]
     },
     "execution_count": 19,
     "metadata": {},
     "output_type": "execute_result"
    }
   ],
   "source": [
    "gs_pipe_KNN.best_params_"
   ]
  },
  {
   "cell_type": "code",
   "execution_count": 20,
   "metadata": {},
   "outputs": [
    {
     "data": {
      "text/plain": [
       "0.9696388858206282"
      ]
     },
     "execution_count": 20,
     "metadata": {},
     "output_type": "execute_result"
    }
   ],
   "source": [
    "gs_pipe_KNN.best_score_"
   ]
  },
  {
   "cell_type": "markdown",
   "metadata": {},
   "source": [
    "It can be observed that optimal KNN model has 10 nearest neighbours with a p value of 1. Optimal model gives 0.97 for AUC score and it can be considered as a higher value.\n"
   ]
  },
  {
   "cell_type": "markdown",
   "metadata": {},
   "source": [
    "It is a good practice to observe other combinations as well in order to find out whether there is a significant difference among values or not. Following function will be used to format output of the grid search as a `Pandas` data frame.\n"
   ]
  },
  {
   "cell_type": "code",
   "execution_count": 21,
   "metadata": {},
   "outputs": [],
   "source": [
    "# custom function to format the search results as a Pandas data frame\n",
    "def get_search_results(gs):\n",
    "\n",
    "    def model_result(scores, params):\n",
    "        scores = {'mean_score': np.mean(scores),\n",
    "             'std_score': np.std(scores),\n",
    "             'min_score': np.min(scores),\n",
    "             'max_score': np.max(scores)}\n",
    "        return pd.Series({**params,**scores})\n",
    "\n",
    "    models = []\n",
    "    scores = []\n",
    "\n",
    "    for i in range(gs.n_splits_):\n",
    "        key = f\"split{i}_test_score\"\n",
    "        r = gs.cv_results_[key]        \n",
    "        scores.append(r.reshape(-1,1))\n",
    "\n",
    "    all_scores = np.hstack(scores)\n",
    "    for p, s in zip(gs.cv_results_['params'], all_scores):\n",
    "        models.append((model_result(s, p)))\n",
    "\n",
    "    pipe_results = pd.concat(models, axis=1).T.sort_values(['mean_score'], ascending=False)\n",
    "\n",
    "    columns_first = ['mean_score', 'std_score', 'max_score', 'min_score']\n",
    "    columns = columns_first + [c for c in pipe_results.columns if c not in columns_first]\n",
    "\n",
    "    return pipe_results[columns]"
   ]
  },
  {
   "cell_type": "code",
   "execution_count": 22,
   "metadata": {},
   "outputs": [
    {
     "data": {
      "text/html": [
       "<div>\n",
       "<style scoped>\n",
       "    .dataframe tbody tr th:only-of-type {\n",
       "        vertical-align: middle;\n",
       "    }\n",
       "\n",
       "    .dataframe tbody tr th {\n",
       "        vertical-align: top;\n",
       "    }\n",
       "\n",
       "    .dataframe thead th {\n",
       "        text-align: right;\n",
       "    }\n",
       "</style>\n",
       "<table border=\"1\" class=\"dataframe\">\n",
       "  <thead>\n",
       "    <tr style=\"text-align: right;\">\n",
       "      <th></th>\n",
       "      <th>mean_score</th>\n",
       "      <th>std_score</th>\n",
       "      <th>max_score</th>\n",
       "      <th>min_score</th>\n",
       "      <th>knn__n_neighbors</th>\n",
       "      <th>knn__p</th>\n",
       "      <th>rfi_fs__n_features_</th>\n",
       "    </tr>\n",
       "  </thead>\n",
       "  <tbody>\n",
       "    <tr>\n",
       "      <th>30</th>\n",
       "      <td>0.969639</td>\n",
       "      <td>0.008490</td>\n",
       "      <td>0.981620</td>\n",
       "      <td>0.960278</td>\n",
       "      <td>100.0</td>\n",
       "      <td>1.0</td>\n",
       "      <td>10.0</td>\n",
       "    </tr>\n",
       "    <tr>\n",
       "      <th>26</th>\n",
       "      <td>0.965735</td>\n",
       "      <td>0.005617</td>\n",
       "      <td>0.972955</td>\n",
       "      <td>0.959228</td>\n",
       "      <td>60.0</td>\n",
       "      <td>1.0</td>\n",
       "      <td>12.0</td>\n",
       "    </tr>\n",
       "    <tr>\n",
       "      <th>25</th>\n",
       "      <td>0.965735</td>\n",
       "      <td>0.005617</td>\n",
       "      <td>0.972955</td>\n",
       "      <td>0.959228</td>\n",
       "      <td>60.0</td>\n",
       "      <td>1.0</td>\n",
       "      <td>20.0</td>\n",
       "    </tr>\n",
       "    <tr>\n",
       "      <th>18</th>\n",
       "      <td>0.961146</td>\n",
       "      <td>0.009828</td>\n",
       "      <td>0.969536</td>\n",
       "      <td>0.942672</td>\n",
       "      <td>40.0</td>\n",
       "      <td>1.0</td>\n",
       "      <td>10.0</td>\n",
       "    </tr>\n",
       "    <tr>\n",
       "      <th>32</th>\n",
       "      <td>0.960996</td>\n",
       "      <td>0.004162</td>\n",
       "      <td>0.964985</td>\n",
       "      <td>0.954407</td>\n",
       "      <td>100.0</td>\n",
       "      <td>1.0</td>\n",
       "      <td>12.0</td>\n",
       "    </tr>\n",
       "  </tbody>\n",
       "</table>\n",
       "</div>"
      ],
      "text/plain": [
       "    mean_score  std_score  max_score  min_score  knn__n_neighbors  knn__p  \\\n",
       "30    0.969639   0.008490   0.981620   0.960278             100.0     1.0   \n",
       "26    0.965735   0.005617   0.972955   0.959228              60.0     1.0   \n",
       "25    0.965735   0.005617   0.972955   0.959228              60.0     1.0   \n",
       "18    0.961146   0.009828   0.969536   0.942672              40.0     1.0   \n",
       "32    0.960996   0.004162   0.964985   0.954407             100.0     1.0   \n",
       "\n",
       "    rfi_fs__n_features_  \n",
       "30                 10.0  \n",
       "26                 12.0  \n",
       "25                 20.0  \n",
       "18                 10.0  \n",
       "32                 12.0  "
      ]
     },
     "execution_count": 22,
     "metadata": {},
     "output_type": "execute_result"
    }
   ],
   "source": [
    "results_KNN = get_search_results(gs_pipe_KNN)\n",
    "results_KNN.head()"
   ]
  },
  {
   "cell_type": "markdown",
   "metadata": {},
   "source": [
    "It is obvious that there is not a much of a difference between hyperparameter combinations when it comes to feature selection. Grid search for selected 10 features is shown as follow."
   ]
  },
  {
   "cell_type": "code",
   "execution_count": 23,
   "metadata": {},
   "outputs": [
    {
     "data": {
      "application/javascript": [
       "var spec = {\"config\": {\"view\": {\"width\": 400, \"height\": 300}, \"mark\": {\"tooltip\": null}}, \"data\": {\"name\": \"data-b62b20f2b927ab4b0e344b0b72010917\"}, \"mark\": {\"type\": \"line\", \"point\": true}, \"encoding\": {\"color\": {\"type\": \"nominal\", \"field\": \"knn__p\", \"title\": \"p\"}, \"x\": {\"type\": \"quantitative\", \"field\": \"knn__n_neighbors\", \"title\": \"Number of Neighbors\"}, \"y\": {\"type\": \"quantitative\", \"field\": \"mean_score\", \"scale\": {\"zero\": false}, \"title\": \"AUC Score\"}}, \"title\": \"KNN Performance Comparison with 10 Features\", \"$schema\": \"https://vega.github.io/schema/vega-lite/v3.2.1.json\", \"datasets\": {\"data-b62b20f2b927ab4b0e344b0b72010917\": [{\"mean_score\": 0.9696385319927027, \"std_score\": 0.008490001585114027, \"max_score\": 0.9816203343472212, \"min_score\": 0.9602777252975628, \"knn__n_neighbors\": 100.0, \"knn__p\": 1.0, \"rfi_fs__n_features_\": 10.0}, {\"mean_score\": 0.9611463392052242, \"std_score\": 0.00982793630087154, \"max_score\": 0.9695362052297753, \"min_score\": 0.9426719251842057, \"knn__n_neighbors\": 40.0, \"knn__p\": 1.0, \"rfi_fs__n_features_\": 10.0}, {\"mean_score\": 0.9604905776316865, \"std_score\": 0.006942984501132748, \"max_score\": 0.967272641531678, \"min_score\": 0.9491663517853768, \"knn__n_neighbors\": 60.0, \"knn__p\": 1.0, \"rfi_fs__n_features_\": 10.0}, {\"mean_score\": 0.9601123309813009, \"std_score\": 0.008680474898849861, \"max_score\": 0.9734384947301408, \"min_score\": 0.9498866427356886, \"knn__n_neighbors\": 100.0, \"knn__p\": 2.0, \"rfi_fs__n_features_\": 10.0}, {\"mean_score\": 0.9580706909987825, \"std_score\": 0.008950781670649978, \"max_score\": 0.9742873311169271, \"min_score\": 0.9485877574154543, \"knn__n_neighbors\": 20.0, \"knn__p\": 1.0, \"rfi_fs__n_features_\": 10.0}, {\"mean_score\": 0.9574694206990125, \"std_score\": 0.008598299455775659, \"max_score\": 0.9661054914998468, \"min_score\": 0.9410896467031928, \"knn__n_neighbors\": 60.0, \"knn__p\": 2.0, \"rfi_fs__n_features_\": 10.0}, {\"mean_score\": 0.957009936299875, \"std_score\": 0.008845437787665082, \"max_score\": 0.9661172808941075, \"min_score\": 0.9428136217645947, \"knn__n_neighbors\": 40.0, \"knn__p\": 2.0, \"rfi_fs__n_features_\": 10.0}, {\"mean_score\": 0.9551015496109738, \"std_score\": 0.009484554075137482, \"max_score\": 0.967272641531678, \"min_score\": 0.943156055167202, \"knn__n_neighbors\": 20.0, \"knn__p\": 2.0, \"rfi_fs__n_features_\": 10.0}, {\"mean_score\": 0.9426040301679978, \"std_score\": 0.012449436961691911, \"max_score\": 0.958418806441725, \"min_score\": 0.9239701964113085, \"knn__n_neighbors\": 10.0, \"knn__p\": 1.0, \"rfi_fs__n_features_\": 10.0}, {\"mean_score\": 0.9412220254484829, \"std_score\": 0.015176752655578326, \"max_score\": 0.9605880549857349, \"min_score\": 0.9261170413754014, \"knn__n_neighbors\": 10.0, \"knn__p\": 2.0, \"rfi_fs__n_features_\": 10.0}, {\"mean_score\": 0.8639908685391596, \"std_score\": 0.01910492908512669, \"max_score\": 0.8899931621513286, \"min_score\": 0.8424286776321903, \"knn__n_neighbors\": 1.0, \"knn__p\": 2.0, \"rfi_fs__n_features_\": 10.0}, {\"mean_score\": 0.8433184213735977, \"std_score\": 0.01903361805202419, \"max_score\": 0.8691848812807997, \"min_score\": 0.8203698541027785, \"knn__n_neighbors\": 1.0, \"knn__p\": 1.0, \"rfi_fs__n_features_\": 10.0}]}};\n",
       "var opt = {};\n",
       "var type = \"vega-lite\";\n",
       "var id = \"2ba426ca-75e4-430b-91ca-27fc4a48c88c\";\n",
       "\n",
       "var output_area = this;\n",
       "\n",
       "require([\"nbextensions/jupyter-vega/index\"], function(vega) {\n",
       "  var target = document.createElement(\"div\");\n",
       "  target.id = id;\n",
       "  target.className = \"vega-embed\";\n",
       "\n",
       "  var style = document.createElement(\"style\");\n",
       "  style.textContent = [\n",
       "    \".vega-embed .error p {\",\n",
       "    \"  color: firebrick;\",\n",
       "    \"  font-size: 14px;\",\n",
       "    \"}\",\n",
       "  ].join(\"\\\\n\");\n",
       "\n",
       "  // element is a jQuery wrapped DOM element inside the output area\n",
       "  // see http://ipython.readthedocs.io/en/stable/api/generated/\\\n",
       "  // IPython.display.html#IPython.display.Javascript.__init__\n",
       "  element[0].appendChild(target);\n",
       "  element[0].appendChild(style);\n",
       "\n",
       "  vega.render(\"#\" + id, spec, type, opt, output_area);\n",
       "}, function (err) {\n",
       "  if (err.requireType !== \"scripterror\") {\n",
       "    throw(err);\n",
       "  }\n",
       "});\n"
      ],
      "text/plain": [
       "<vega.vegalite.VegaLite at 0x1a1ed382b0>"
      ]
     },
     "metadata": {
      "jupyter-vega": "#2ba426ca-75e4-430b-91ca-27fc4a48c88c"
     },
     "output_type": "display_data"
    },
    {
     "data": {
      "text/plain": []
     },
     "execution_count": 23,
     "metadata": {},
     "output_type": "execute_result"
    },
    {
     "data": {
      "image/png": "[encoded data removed]"
     },
     "metadata": {
      "jupyter-vega": "#2ba426ca-75e4-430b-91ca-27fc4a48c88c"
     },
     "output_type": "display_data"
    }
   ],
   "source": [
    "import altair as alt\n",
    "\n",
    "results_KNN_10_features = results_KNN[results_KNN['rfi_fs__n_features_'] == 10.0]\n",
    "\n",
    "alt.Chart(results_KNN_10_features, \n",
    "          title='KNN Performance Comparison with 10 Features'\n",
    "         ).mark_line(point=True).encode(\n",
    "    alt.X('knn__n_neighbors', title='Number of Neighbors'),\n",
    "    alt.Y('mean_score', title='AUC Score', scale=alt.Scale(zero=False)),\n",
    "    alt.Color('knn__p:N', title='p')\n",
    ")\n"
   ]
  },
  {
   "cell_type": "markdown",
   "metadata": {},
   "source": [
    "## (Gaussian) Naive Bayes (NB)"
   ]
  },
  {
   "cell_type": "markdown",
   "metadata": {},
   "source": [
    "Gaussian Naive Bayes model is selected as a classification model for this particular dataset and problem. Since there is not much information regarding the dataset, we will optimize `var_smoothing` (a variant of Laplace smoothing). Default value for `var_smoothing` parameter is $10^{-9}$ and we will perform a grid search in the `logspace` starting from 10 and ending with $10^{-3}$  for 200 values over the powers of 10. But we conduct a random search by only using 20 values for shorter run times. We have to perform a power transformation on the data prior to model fitting in order to check whether that descriptive features follow a gaussian distribution as it is required Naive Bayes."
   ]
  },
  {
   "cell_type": "code",
   "execution_count": 24,
   "metadata": {},
   "outputs": [],
   "source": [
    "from sklearn.preprocessing import PowerTransformer\n",
    "Data_train_transformed = PowerTransformer().fit_transform(Data_train)"
   ]
  },
  {
   "cell_type": "code",
   "execution_count": 25,
   "metadata": {},
   "outputs": [
    {
     "name": "stdout",
     "output_type": "stream",
     "text": [
      "Fitting 5 folds for each of 20 candidates, totalling 100 fits\n"
     ]
    },
    {
     "name": "stderr",
     "output_type": "stream",
     "text": [
      "[Parallel(n_jobs=-2)]: Using backend LokyBackend with 3 concurrent workers.\n",
      "[Parallel(n_jobs=-2)]: Done  44 tasks      | elapsed:    3.3s\n",
      "[Parallel(n_jobs=-2)]: Done 100 out of 100 | elapsed:    7.3s finished\n"
     ]
    }
   ],
   "source": [
    "from sklearn.naive_bayes import GaussianNB\n",
    "from sklearn.model_selection import RandomizedSearchCV\n",
    "\n",
    "pipe_NB = Pipeline([('rfi_fs', RFIFeatureSelector()), \n",
    "                     ('nb', GaussianNB())])\n",
    "\n",
    "params_pipe_NB = {'rfi_fs__n_features_': [10, 20, Data.shape[1]],\n",
    "                  'nb__var_smoothing': np.logspace(1,-3, num=200)}\n",
    "\n",
    "n_iter_search = 20\n",
    "gs_pipe_NB = RandomizedSearchCV(estimator=pipe_NB, \n",
    "                          param_distributions=params_pipe_NB, \n",
    "                          cv=cv_method,\n",
    "                          refit=True,\n",
    "                          n_jobs=-2,\n",
    "                          scoring='roc_auc',\n",
    "                          n_iter=n_iter_search,\n",
    "                          verbose=1) \n",
    "\n",
    "gs_pipe_NB.fit(Data_train_transformed, target_train);"
   ]
  },
  {
   "cell_type": "code",
   "execution_count": 26,
   "metadata": {},
   "outputs": [
    {
     "data": {
      "text/plain": [
       "{'rfi_fs__n_features_': 10, 'nb__var_smoothing': 0.002899422853882875}"
      ]
     },
     "execution_count": 26,
     "metadata": {},
     "output_type": "execute_result"
    }
   ],
   "source": [
    "gs_pipe_NB.best_params_"
   ]
  },
  {
   "cell_type": "code",
   "execution_count": 27,
   "metadata": {},
   "outputs": [
    {
     "data": {
      "text/plain": [
       "0.9451050249804359"
      ]
     },
     "execution_count": 27,
     "metadata": {},
     "output_type": "execute_result"
    }
   ],
   "source": [
    "gs_pipe_NB.best_score_"
   ]
  },
  {
   "cell_type": "markdown",
   "metadata": {},
   "source": [
    "NB gives an optimal AUC score of 0.945 which is slightly less than that of KNN model. But, it is not enough conclude that KNN is better than NB. For that, further tests such as paired t-test has to be considered.\n"
   ]
  },
  {
   "cell_type": "code",
   "execution_count": 28,
   "metadata": {},
   "outputs": [
    {
     "data": {
      "text/html": [
       "<div>\n",
       "<style scoped>\n",
       "    .dataframe tbody tr th:only-of-type {\n",
       "        vertical-align: middle;\n",
       "    }\n",
       "\n",
       "    .dataframe tbody tr th {\n",
       "        vertical-align: top;\n",
       "    }\n",
       "\n",
       "    .dataframe thead th {\n",
       "        text-align: right;\n",
       "    }\n",
       "</style>\n",
       "<table border=\"1\" class=\"dataframe\">\n",
       "  <thead>\n",
       "    <tr style=\"text-align: right;\">\n",
       "      <th></th>\n",
       "      <th>mean_score</th>\n",
       "      <th>std_score</th>\n",
       "      <th>max_score</th>\n",
       "      <th>min_score</th>\n",
       "      <th>rfi_fs__n_features_</th>\n",
       "      <th>nb__var_smoothing</th>\n",
       "    </tr>\n",
       "  </thead>\n",
       "  <tbody>\n",
       "    <tr>\n",
       "      <th>17</th>\n",
       "      <td>0.945097</td>\n",
       "      <td>0.012335</td>\n",
       "      <td>0.958030</td>\n",
       "      <td>0.923342</td>\n",
       "      <td>10.0</td>\n",
       "      <td>0.002899</td>\n",
       "    </tr>\n",
       "    <tr>\n",
       "      <th>9</th>\n",
       "      <td>0.944574</td>\n",
       "      <td>0.012436</td>\n",
       "      <td>0.957322</td>\n",
       "      <td>0.922468</td>\n",
       "      <td>10.0</td>\n",
       "      <td>0.025529</td>\n",
       "    </tr>\n",
       "    <tr>\n",
       "      <th>19</th>\n",
       "      <td>0.941860</td>\n",
       "      <td>0.013990</td>\n",
       "      <td>0.956662</td>\n",
       "      <td>0.916446</td>\n",
       "      <td>20.0</td>\n",
       "      <td>0.001000</td>\n",
       "    </tr>\n",
       "    <tr>\n",
       "      <th>8</th>\n",
       "      <td>0.941860</td>\n",
       "      <td>0.013990</td>\n",
       "      <td>0.956662</td>\n",
       "      <td>0.916446</td>\n",
       "      <td>12.0</td>\n",
       "      <td>0.001000</td>\n",
       "    </tr>\n",
       "    <tr>\n",
       "      <th>2</th>\n",
       "      <td>0.941804</td>\n",
       "      <td>0.013978</td>\n",
       "      <td>0.956615</td>\n",
       "      <td>0.916423</td>\n",
       "      <td>20.0</td>\n",
       "      <td>0.001664</td>\n",
       "    </tr>\n",
       "  </tbody>\n",
       "</table>\n",
       "</div>"
      ],
      "text/plain": [
       "    mean_score  std_score  max_score  min_score  rfi_fs__n_features_  \\\n",
       "17    0.945097   0.012335   0.958030   0.923342                 10.0   \n",
       "9     0.944574   0.012436   0.957322   0.922468                 10.0   \n",
       "19    0.941860   0.013990   0.956662   0.916446                 20.0   \n",
       "8     0.941860   0.013990   0.956662   0.916446                 12.0   \n",
       "2     0.941804   0.013978   0.956615   0.916423                 20.0   \n",
       "\n",
       "    nb__var_smoothing  \n",
       "17           0.002899  \n",
       "9            0.025529  \n",
       "19           0.001000  \n",
       "8            0.001000  \n",
       "2            0.001664  "
      ]
     },
     "execution_count": 28,
     "metadata": {},
     "output_type": "execute_result"
    }
   ],
   "source": [
    "results_NB = get_search_results(gs_pipe_NB)\n",
    "results_NB.head()"
   ]
  },
  {
   "cell_type": "markdown",
   "metadata": {},
   "source": [
    "Visualisation for the search results with 10 features can be shown as follow."
   ]
  },
  {
   "cell_type": "code",
   "execution_count": 29,
   "metadata": {},
   "outputs": [
    {
     "data": {
      "application/javascript": [
       "var spec = {\"config\": {\"view\": {\"width\": 400, \"height\": 300}, \"mark\": {\"tooltip\": null}}, \"data\": {\"name\": \"data-82501f8b4e979532ee7bca3086547b0a\"}, \"mark\": {\"type\": \"line\", \"point\": true}, \"encoding\": {\"x\": {\"type\": \"quantitative\", \"field\": \"nb__var_smoothing\", \"title\": \"Var. Smoothing\"}, \"y\": {\"type\": \"quantitative\", \"field\": \"mean_score\", \"scale\": {\"zero\": false}, \"title\": \"AUC Score\"}}, \"title\": \"NB Performance Comparison with 10 Features\", \"$schema\": \"https://vega.github.io/schema/vega-lite/v3.2.1.json\", \"datasets\": {\"data-82501f8b4e979532ee7bca3086547b0a\": [{\"mean_score\": 0.9450974668638576, \"std_score\": 0.012335318690476459, \"max_score\": 0.9580297564311145, \"min_score\": 0.9233421500094464, \"rfi_fs__n_features_\": 10.0, \"nb__var_smoothing\": 0.002899422853882875}, {\"mean_score\": 0.9445741577741892, \"std_score\": 0.012436442126751835, \"max_score\": 0.9573223927754593, \"min_score\": 0.9224683544303798, \"rfi_fs__n_features_\": 10.0, \"nb__var_smoothing\": 0.025529080682395167}, {\"mean_score\": 0.9413128066372727, \"std_score\": 0.012109886701215178, \"max_score\": 0.9533375775152673, \"min_score\": 0.9198705837899113, \"rfi_fs__n_features_\": 10.0, \"nb__var_smoothing\": 0.19563983435170637}, {\"mean_score\": 0.935387618604335, \"std_score\": 0.012235976326792606, \"max_score\": 0.9497300228714249, \"min_score\": 0.9146750425089742, \"rfi_fs__n_features_\": 10.0, \"nb__var_smoothing\": 1.3667163564620066}]}};\n",
       "var opt = {};\n",
       "var type = \"vega-lite\";\n",
       "var id = \"2044dd0a-05f3-450f-b0e3-dd4df19958b9\";\n",
       "\n",
       "var output_area = this;\n",
       "\n",
       "require([\"nbextensions/jupyter-vega/index\"], function(vega) {\n",
       "  var target = document.createElement(\"div\");\n",
       "  target.id = id;\n",
       "  target.className = \"vega-embed\";\n",
       "\n",
       "  var style = document.createElement(\"style\");\n",
       "  style.textContent = [\n",
       "    \".vega-embed .error p {\",\n",
       "    \"  color: firebrick;\",\n",
       "    \"  font-size: 14px;\",\n",
       "    \"}\",\n",
       "  ].join(\"\\\\n\");\n",
       "\n",
       "  // element is a jQuery wrapped DOM element inside the output area\n",
       "  // see http://ipython.readthedocs.io/en/stable/api/generated/\\\n",
       "  // IPython.display.html#IPython.display.Javascript.__init__\n",
       "  element[0].appendChild(target);\n",
       "  element[0].appendChild(style);\n",
       "\n",
       "  vega.render(\"#\" + id, spec, type, opt, output_area);\n",
       "}, function (err) {\n",
       "  if (err.requireType !== \"scripterror\") {\n",
       "    throw(err);\n",
       "  }\n",
       "});\n"
      ],
      "text/plain": [
       "<vega.vegalite.VegaLite at 0x11b0f0080>"
      ]
     },
     "metadata": {
      "jupyter-vega": "#2044dd0a-05f3-450f-b0e3-dd4df19958b9"
     },
     "output_type": "display_data"
    },
    {
     "data": {
      "text/plain": []
     },
     "execution_count": 29,
     "metadata": {},
     "output_type": "execute_result"
    },
    {
     "data": {
      "image/png": "[encoded data removed]"
     },
     "metadata": {
      "jupyter-vega": "#2044dd0a-05f3-450f-b0e3-dd4df19958b9"
     },
     "output_type": "display_data"
    }
   ],
   "source": [
    "results_NB_10_features = results_NB[results_NB['rfi_fs__n_features_'] == 10.0]\n",
    "\n",
    "alt.Chart(results_NB_10_features, \n",
    "          title='NB Performance Comparison with 10 Features'\n",
    "         ).mark_line(point=True).encode(\n",
    "    alt.X('nb__var_smoothing', title='Var. Smoothing'),\n",
    "    alt.Y('mean_score', title='AUC Score', scale=alt.Scale(zero=False))\n",
    ")"
   ]
  },
  {
   "cell_type": "markdown",
   "metadata": {},
   "source": [
    "## Decision Trees (DT)"
   ]
  },
  {
   "cell_type": "markdown",
   "metadata": {},
   "source": [
    "Decision Tree model is used as another classification model to make predictions. Gini index is used here and search for optimal values of depth (`max_depth`) and minimum sample split (`min_samples_split`)."
   ]
  },
  {
   "cell_type": "code",
   "execution_count": 30,
   "metadata": {},
   "outputs": [
    {
     "name": "stdout",
     "output_type": "stream",
     "text": [
      "Fitting 5 folds for each of 18 candidates, totalling 90 fits\n"
     ]
    },
    {
     "name": "stderr",
     "output_type": "stream",
     "text": [
      "[Parallel(n_jobs=-2)]: Using backend LokyBackend with 3 concurrent workers.\n",
      "[Parallel(n_jobs=-2)]: Done  44 tasks      | elapsed:    3.4s\n",
      "[Parallel(n_jobs=-2)]: Done  90 out of  90 | elapsed:    6.9s finished\n"
     ]
    }
   ],
   "source": [
    "from sklearn.tree import DecisionTreeClassifier\n",
    "\n",
    "pipe_DT = Pipeline([('rfi_fs', RFIFeatureSelector()),\n",
    "                    ('dt', DecisionTreeClassifier(criterion='gini'))])\n",
    "\n",
    "params_pipe_DT = {'rfi_fs__n_features_': [10, 20, Data.shape[1]],\n",
    "                  'dt__max_depth': [3, 4, 5],\n",
    "                  'dt__min_samples_split': [2, 5]}\n",
    "\n",
    "gs_pipe_DT = GridSearchCV(estimator=pipe_DT, \n",
    "                          param_grid=params_pipe_DT, \n",
    "                          cv=cv_method,\n",
    "                          refit=True,\n",
    "                          n_jobs=-2,\n",
    "                          scoring='roc_auc',\n",
    "                          verbose=1) \n",
    "\n",
    "gs_pipe_DT.fit(Data_train, target_train);"
   ]
  },
  {
   "cell_type": "code",
   "execution_count": 31,
   "metadata": {},
   "outputs": [
    {
     "data": {
      "text/plain": [
       "{'dt__max_depth': 3, 'dt__min_samples_split': 2, 'rfi_fs__n_features_': 10}"
      ]
     },
     "execution_count": 31,
     "metadata": {},
     "output_type": "execute_result"
    }
   ],
   "source": [
    "gs_pipe_DT.best_params_\n"
   ]
  },
  {
   "cell_type": "code",
   "execution_count": 32,
   "metadata": {},
   "outputs": [
    {
     "data": {
      "text/plain": [
       "0.9930003817328988"
      ]
     },
     "execution_count": 32,
     "metadata": {},
     "output_type": "execute_result"
    }
   ],
   "source": [
    "gs_pipe_DT.best_score_"
   ]
  },
  {
   "cell_type": "markdown",
   "metadata": {},
   "source": [
    "The optimal solution of DT has a maximum depth of 3 and minimum number of splits of 2 along with ACU score of 0.993 which is highly accurate. A visualization for the search results is given below."
   ]
  },
  {
   "cell_type": "code",
   "execution_count": 33,
   "metadata": {},
   "outputs": [
    {
     "data": {
      "application/javascript": [
       "var spec = {\"config\": {\"view\": {\"width\": 400, \"height\": 300}, \"mark\": {\"tooltip\": null}}, \"data\": {\"name\": \"data-b69bc451e4cf7d507f7d1b85e7b8b4f8\"}, \"mark\": {\"type\": \"line\", \"point\": true}, \"encoding\": {\"color\": {\"type\": \"nominal\", \"field\": \"dt__max_depth\", \"title\": \"Max Depth\"}, \"x\": {\"type\": \"quantitative\", \"field\": \"dt__min_samples_split\", \"title\": \"Min Samples for Split\"}, \"y\": {\"type\": \"quantitative\", \"field\": \"mean_score\", \"scale\": {\"zero\": false}, \"title\": \"AUC Score\"}}, \"title\": \"DT Performance Comparison with 10 Features\", \"$schema\": \"https://vega.github.io/schema/vega-lite/v3.2.1.json\", \"datasets\": {\"data-b69bc451e4cf7d507f7d1b85e7b8b4f8\": [{\"mean_score\": 0.9929998252834593, \"std_score\": 0.0032314159159709576, \"max_score\": 0.996640022635637, \"min_score\": 0.9871259814670723, \"dt__max_depth\": 3.0, \"dt__min_samples_split\": 2.0, \"rfi_fs__n_features_\": 10.0}, {\"mean_score\": 0.9929998252834593, \"std_score\": 0.0032314159159709576, \"max_score\": 0.996640022635637, \"min_score\": 0.9871259814670723, \"dt__max_depth\": 3.0, \"dt__min_samples_split\": 5.0, \"rfi_fs__n_features_\": 10.0}, {\"mean_score\": 0.9898035818005673, \"std_score\": 0.006200083237407034, \"max_score\": 0.9970408620405082, \"min_score\": 0.9793241073115436, \"dt__max_depth\": 4.0, \"dt__min_samples_split\": 5.0, \"rfi_fs__n_features_\": 10.0}, {\"mean_score\": 0.9898035818005673, \"std_score\": 0.006200083237407034, \"max_score\": 0.9970408620405082, \"min_score\": 0.9793241073115436, \"dt__max_depth\": 4.0, \"dt__min_samples_split\": 2.0, \"rfi_fs__n_features_\": 10.0}, {\"mean_score\": 0.9821217806065535, \"std_score\": 0.01022724010273681, \"max_score\": 0.9956788402564817, \"min_score\": 0.9658107566433237, \"dt__max_depth\": 5.0, \"dt__min_samples_split\": 5.0, \"rfi_fs__n_features_\": 10.0}, {\"mean_score\": 0.9801661463619851, \"std_score\": 0.011169544146778029, \"max_score\": 0.9951793513613977, \"min_score\": 0.9646553960057532, \"dt__max_depth\": 5.0, \"dt__min_samples_split\": 2.0, \"rfi_fs__n_features_\": 10.0}]}};\n",
       "var opt = {};\n",
       "var type = \"vega-lite\";\n",
       "var id = \"06b2959f-81cd-458a-b39f-0e21ef131b5d\";\n",
       "\n",
       "var output_area = this;\n",
       "\n",
       "require([\"nbextensions/jupyter-vega/index\"], function(vega) {\n",
       "  var target = document.createElement(\"div\");\n",
       "  target.id = id;\n",
       "  target.className = \"vega-embed\";\n",
       "\n",
       "  var style = document.createElement(\"style\");\n",
       "  style.textContent = [\n",
       "    \".vega-embed .error p {\",\n",
       "    \"  color: firebrick;\",\n",
       "    \"  font-size: 14px;\",\n",
       "    \"}\",\n",
       "  ].join(\"\\\\n\");\n",
       "\n",
       "  // element is a jQuery wrapped DOM element inside the output area\n",
       "  // see http://ipython.readthedocs.io/en/stable/api/generated/\\\n",
       "  // IPython.display.html#IPython.display.Javascript.__init__\n",
       "  element[0].appendChild(target);\n",
       "  element[0].appendChild(style);\n",
       "\n",
       "  vega.render(\"#\" + id, spec, type, opt, output_area);\n",
       "}, function (err) {\n",
       "  if (err.requireType !== \"scripterror\") {\n",
       "    throw(err);\n",
       "  }\n",
       "});\n"
      ],
      "text/plain": [
       "<vega.vegalite.VegaLite at 0x1a1edd2b38>"
      ]
     },
     "metadata": {
      "jupyter-vega": "#06b2959f-81cd-458a-b39f-0e21ef131b5d"
     },
     "output_type": "display_data"
    },
    {
     "data": {
      "text/plain": []
     },
     "execution_count": 33,
     "metadata": {},
     "output_type": "execute_result"
    },
    {
     "data": {
      "image/png": "[encoded data removed]"
     },
     "metadata": {
      "jupyter-vega": "#06b2959f-81cd-458a-b39f-0e21ef131b5d"
     },
     "output_type": "display_data"
    }
   ],
   "source": [
    "results_DT = get_search_results(gs_pipe_DT)\n",
    "\n",
    "results_DT_10_features = results_DT[results_DT['rfi_fs__n_features_'] == 10.0]\n",
    "\n",
    "alt.Chart(results_DT_10_features, \n",
    "          title='DT Performance Comparison with 10 Features'\n",
    "         ).mark_line(point=True).encode(\n",
    "    alt.X('dt__min_samples_split', title='Min Samples for Split'),\n",
    "    alt.Y('mean_score', title='AUC Score', scale=alt.Scale(zero=False)),\n",
    "    alt.Color('dt__max_depth:N', title='Max Depth')\n",
    ")"
   ]
  },
  {
   "cell_type": "markdown",
   "metadata": {},
   "source": [
    "## Further Fine Tuning\n",
    "\n",
    "It can be observed that optimal value of maximum depth parameter is closer to the extreme end of the search. Therefore, it is better to go beyond that to make sure that there is no any better value. New search is performed as follow."
   ]
  },
  {
   "cell_type": "code",
   "execution_count": 34,
   "metadata": {},
   "outputs": [
    {
     "name": "stdout",
     "output_type": "stream",
     "text": [
      "Fitting 5 folds for each of 12 candidates, totalling 60 fits\n"
     ]
    },
    {
     "name": "stderr",
     "output_type": "stream",
     "text": [
      "[Parallel(n_jobs=-2)]: Using backend LokyBackend with 3 concurrent workers.\n",
      "[Parallel(n_jobs=-2)]: Done  44 tasks      | elapsed:    3.5s\n",
      "[Parallel(n_jobs=-2)]: Done  60 out of  60 | elapsed:    5.1s finished\n"
     ]
    }
   ],
   "source": [
    "params_pipe_DT2 = {'rfi_fs__n_features_': [10],\n",
    "                  'dt__max_depth': [5, 10, 15],\n",
    "                  'dt__min_samples_split': [5, 50, 100, 150]}\n",
    "\n",
    "gs_pipe_DT2 = GridSearchCV(estimator=pipe_DT, \n",
    "                          param_grid=params_pipe_DT2, \n",
    "                          cv=cv_method,\n",
    "                          refit=True,\n",
    "                          n_jobs=-2,\n",
    "                          scoring='roc_auc',\n",
    "                          verbose=1) \n",
    "\n",
    "gs_pipe_DT2.fit(Data_train, target_train);"
   ]
  },
  {
   "cell_type": "code",
   "execution_count": 35,
   "metadata": {},
   "outputs": [
    {
     "data": {
      "text/plain": [
       "{'dt__max_depth': 5, 'dt__min_samples_split': 150, 'rfi_fs__n_features_': 10}"
      ]
     },
     "execution_count": 35,
     "metadata": {},
     "output_type": "execute_result"
    }
   ],
   "source": [
    "gs_pipe_DT2.best_params_"
   ]
  },
  {
   "cell_type": "code",
   "execution_count": 36,
   "metadata": {},
   "outputs": [
    {
     "data": {
      "text/plain": [
       "0.9943406466387693"
      ]
     },
     "execution_count": 36,
     "metadata": {},
     "output_type": "execute_result"
    }
   ],
   "source": [
    "gs_pipe_DT2.best_score_\n"
   ]
  },
  {
   "cell_type": "markdown",
   "metadata": {},
   "source": [
    "New search results suggest better parameter estimates in order to achieve slightly better results."
   ]
  },
  {
   "cell_type": "code",
   "execution_count": 37,
   "metadata": {},
   "outputs": [
    {
     "data": {
      "text/html": [
       "<div>\n",
       "<style scoped>\n",
       "    .dataframe tbody tr th:only-of-type {\n",
       "        vertical-align: middle;\n",
       "    }\n",
       "\n",
       "    .dataframe tbody tr th {\n",
       "        vertical-align: top;\n",
       "    }\n",
       "\n",
       "    .dataframe thead th {\n",
       "        text-align: right;\n",
       "    }\n",
       "</style>\n",
       "<table border=\"1\" class=\"dataframe\">\n",
       "  <thead>\n",
       "    <tr style=\"text-align: right;\">\n",
       "      <th></th>\n",
       "      <th>mean_score</th>\n",
       "      <th>std_score</th>\n",
       "      <th>max_score</th>\n",
       "      <th>min_score</th>\n",
       "      <th>dt__max_depth</th>\n",
       "      <th>dt__min_samples_split</th>\n",
       "      <th>rfi_fs__n_features_</th>\n",
       "    </tr>\n",
       "  </thead>\n",
       "  <tbody>\n",
       "    <tr>\n",
       "      <th>3</th>\n",
       "      <td>0.994340</td>\n",
       "      <td>0.002618</td>\n",
       "      <td>0.99789</td>\n",
       "      <td>0.989849</td>\n",
       "      <td>5.0</td>\n",
       "      <td>150.0</td>\n",
       "      <td>10.0</td>\n",
       "    </tr>\n",
       "    <tr>\n",
       "      <th>7</th>\n",
       "      <td>0.994340</td>\n",
       "      <td>0.002618</td>\n",
       "      <td>0.99789</td>\n",
       "      <td>0.989849</td>\n",
       "      <td>10.0</td>\n",
       "      <td>150.0</td>\n",
       "      <td>10.0</td>\n",
       "    </tr>\n",
       "    <tr>\n",
       "      <th>11</th>\n",
       "      <td>0.994340</td>\n",
       "      <td>0.002618</td>\n",
       "      <td>0.99789</td>\n",
       "      <td>0.989849</td>\n",
       "      <td>15.0</td>\n",
       "      <td>150.0</td>\n",
       "      <td>10.0</td>\n",
       "    </tr>\n",
       "    <tr>\n",
       "      <th>2</th>\n",
       "      <td>0.994256</td>\n",
       "      <td>0.002446</td>\n",
       "      <td>0.99789</td>\n",
       "      <td>0.990344</td>\n",
       "      <td>5.0</td>\n",
       "      <td>100.0</td>\n",
       "      <td>10.0</td>\n",
       "    </tr>\n",
       "    <tr>\n",
       "      <th>6</th>\n",
       "      <td>0.990078</td>\n",
       "      <td>0.008796</td>\n",
       "      <td>0.99789</td>\n",
       "      <td>0.973248</td>\n",
       "      <td>10.0</td>\n",
       "      <td>100.0</td>\n",
       "      <td>10.0</td>\n",
       "    </tr>\n",
       "  </tbody>\n",
       "</table>\n",
       "</div>"
      ],
      "text/plain": [
       "    mean_score  std_score  max_score  min_score  dt__max_depth  \\\n",
       "3     0.994340   0.002618    0.99789   0.989849            5.0   \n",
       "7     0.994340   0.002618    0.99789   0.989849           10.0   \n",
       "11    0.994340   0.002618    0.99789   0.989849           15.0   \n",
       "2     0.994256   0.002446    0.99789   0.990344            5.0   \n",
       "6     0.990078   0.008796    0.99789   0.973248           10.0   \n",
       "\n",
       "    dt__min_samples_split  rfi_fs__n_features_  \n",
       "3                   150.0                 10.0  \n",
       "7                   150.0                 10.0  \n",
       "11                  150.0                 10.0  \n",
       "2                   100.0                 10.0  \n",
       "6                   100.0                 10.0  "
      ]
     },
     "execution_count": 37,
     "metadata": {},
     "output_type": "execute_result"
    }
   ],
   "source": [
    "results_DT = get_search_results(gs_pipe_DT2)\n",
    "results_DT.head()"
   ]
  },
  {
   "cell_type": "markdown",
   "metadata": {},
   "source": [
    "There is not much of a difference between AUC scores of different parameter combination as shown in the above table. "
   ]
  },
  {
   "cell_type": "code",
   "execution_count": 38,
   "metadata": {},
   "outputs": [
    {
     "data": {
      "application/javascript": [
       "var spec = {\"config\": {\"view\": {\"width\": 400, \"height\": 300}, \"mark\": {\"tooltip\": null}}, \"data\": {\"name\": \"data-1c1d2fe0e26f10af478c6bf1a5e6c4e2\"}, \"mark\": {\"type\": \"line\", \"point\": true}, \"encoding\": {\"color\": {\"type\": \"nominal\", \"field\": \"dt__max_depth\", \"title\": \"Max Depth\"}, \"x\": {\"type\": \"quantitative\", \"field\": \"dt__min_samples_split\", \"title\": \"Min Samples for Split\"}, \"y\": {\"type\": \"quantitative\", \"field\": \"mean_score\", \"scale\": {\"zero\": false}, \"title\": \"AUC Score\"}}, \"title\": \"DT Performance Comparison with 10 Features - Extended\", \"$schema\": \"https://vega.github.io/schema/vega-lite/v3.2.1.json\", \"datasets\": {\"data-1c1d2fe0e26f10af478c6bf1a5e6c4e2\": [{\"mean_score\": 0.9943403456878637, \"std_score\": 0.002617563939010692, \"max_score\": 0.9978896984272948, \"min_score\": 0.9898493315413455, \"dt__max_depth\": 5.0, \"dt__min_samples_split\": 150.0, \"rfi_fs__n_features_\": 10.0}, {\"mean_score\": 0.9943403456878637, \"std_score\": 0.002617563939010692, \"max_score\": 0.9978896984272948, \"min_score\": 0.9898493315413455, \"dt__max_depth\": 10.0, \"dt__min_samples_split\": 150.0, \"rfi_fs__n_features_\": 10.0}, {\"mean_score\": 0.9943403456878637, \"std_score\": 0.002617563939010692, \"max_score\": 0.9978896984272948, \"min_score\": 0.9898493315413455, \"dt__max_depth\": 15.0, \"dt__min_samples_split\": 150.0, \"rfi_fs__n_features_\": 10.0}, {\"mean_score\": 0.994255843470764, \"std_score\": 0.0024461963658468085, \"max_score\": 0.9978896984272948, \"min_score\": 0.9903444861003042, \"dt__max_depth\": 5.0, \"dt__min_samples_split\": 100.0, \"rfi_fs__n_features_\": 10.0}, {\"mean_score\": 0.9900781888779644, \"std_score\": 0.008795837432771519, \"max_score\": 0.9978896984272948, \"min_score\": 0.973248304060961, \"dt__max_depth\": 10.0, \"dt__min_samples_split\": 100.0, \"rfi_fs__n_features_\": 10.0}, {\"mean_score\": 0.9900781888779644, \"std_score\": 0.008795837432771519, \"max_score\": 0.9978896984272948, \"min_score\": 0.973248304060961, \"dt__max_depth\": 15.0, \"dt__min_samples_split\": 100.0, \"rfi_fs__n_features_\": 10.0}, {\"mean_score\": 0.9900672103886141, \"std_score\": 0.00832486230253743, \"max_score\": 0.9980547499469478, \"min_score\": 0.9744995402136238, \"dt__max_depth\": 5.0, \"dt__min_samples_split\": 50.0, \"rfi_fs__n_features_\": 10.0}, {\"mean_score\": 0.9832934730226441, \"std_score\": 0.010758557746055865, \"max_score\": 0.9949470309450795, \"min_score\": 0.9643724505434911, \"dt__max_depth\": 5.0, \"dt__min_samples_split\": 5.0, \"rfi_fs__n_features_\": 10.0}, {\"mean_score\": 0.9805261714632998, \"std_score\": 0.011650726887404766, \"max_score\": 0.9979840135813822, \"min_score\": 0.9659692046098621, \"dt__max_depth\": 10.0, \"dt__min_samples_split\": 50.0, \"rfi_fs__n_features_\": 10.0}, {\"mean_score\": 0.9805261714632998, \"std_score\": 0.011650726887404766, \"max_score\": 0.9979840135813822, \"min_score\": 0.9659692046098621, \"dt__max_depth\": 15.0, \"dt__min_samples_split\": 50.0, \"rfi_fs__n_features_\": 10.0}, {\"mean_score\": 0.9533391078102446, \"std_score\": 0.010251728622250232, \"max_score\": 0.9636768762820966, \"min_score\": 0.9353745512941621, \"dt__max_depth\": 10.0, \"dt__min_samples_split\": 5.0, \"rfi_fs__n_features_\": 10.0}, {\"mean_score\": 0.9492580195927969, \"std_score\": 0.009045580315809524, \"max_score\": 0.9598335337530357, \"min_score\": 0.9354335915359909, \"dt__max_depth\": 15.0, \"dt__min_samples_split\": 5.0, \"rfi_fs__n_features_\": 10.0}]}};\n",
       "var opt = {};\n",
       "var type = \"vega-lite\";\n",
       "var id = \"47170da9-2779-4ce6-95e8-e4855636e866\";\n",
       "\n",
       "var output_area = this;\n",
       "\n",
       "require([\"nbextensions/jupyter-vega/index\"], function(vega) {\n",
       "  var target = document.createElement(\"div\");\n",
       "  target.id = id;\n",
       "  target.className = \"vega-embed\";\n",
       "\n",
       "  var style = document.createElement(\"style\");\n",
       "  style.textContent = [\n",
       "    \".vega-embed .error p {\",\n",
       "    \"  color: firebrick;\",\n",
       "    \"  font-size: 14px;\",\n",
       "    \"}\",\n",
       "  ].join(\"\\\\n\");\n",
       "\n",
       "  // element is a jQuery wrapped DOM element inside the output area\n",
       "  // see http://ipython.readthedocs.io/en/stable/api/generated/\\\n",
       "  // IPython.display.html#IPython.display.Javascript.__init__\n",
       "  element[0].appendChild(target);\n",
       "  element[0].appendChild(style);\n",
       "\n",
       "  vega.render(\"#\" + id, spec, type, opt, output_area);\n",
       "}, function (err) {\n",
       "  if (err.requireType !== \"scripterror\") {\n",
       "    throw(err);\n",
       "  }\n",
       "});\n"
      ],
      "text/plain": [
       "<vega.vegalite.VegaLite at 0x1a1ee97358>"
      ]
     },
     "metadata": {
      "jupyter-vega": "#47170da9-2779-4ce6-95e8-e4855636e866"
     },
     "output_type": "display_data"
    },
    {
     "data": {
      "text/plain": []
     },
     "execution_count": 38,
     "metadata": {},
     "output_type": "execute_result"
    },
    {
     "data": {
      "image/png": "[encoded data removed]"
     },
     "metadata": {
      "jupyter-vega": "#47170da9-2779-4ce6-95e8-e4855636e866"
     },
     "output_type": "display_data"
    }
   ],
   "source": [
    "results_DT_10_features = results_DT[results_DT['rfi_fs__n_features_'] == 10.0]\n",
    "\n",
    "alt.Chart(results_DT_10_features, \n",
    "          title='DT Performance Comparison with 10 Features - Extended'\n",
    "         ).mark_line(point=True).encode(\n",
    "    alt.X('dt__min_samples_split', title='Min Samples for Split'),\n",
    "    alt.Y('mean_score', title='AUC Score', scale=alt.Scale(zero=False)),\n",
    "    alt.Color('dt__max_depth:N', title='Max Depth')\n",
    ")"
   ]
  },
  {
   "cell_type": "markdown",
   "metadata": {},
   "source": [
    "# Performance Comparison <a class=\"anchor\" id=\"5\"></a> \n",
    "\n",
    "We have achieved optimal level for all the three classifiers with the hyperparameter tuning using training data. As the next step, all the models will be fitted on the test data with the cross-validation. Further, paired t-tests are in use in order to guarantee the statistical significance between the performance of the two classifiers. It is always better to get a statistically significance result from the paired t-tests. 10-fold stratified cross-validation  will be performed on each optimized classification model without repetitions and paired t-test will be used for AUC score between all the possible model combinations as follow.\n",
    "\n",
    "* KNN vs. NB,\n",
    "* KNN vs. DT, and\n",
    "* DT vs. NB.\n"
   ]
  },
  {
   "cell_type": "code",
   "execution_count": 39,
   "metadata": {},
   "outputs": [
    {
     "data": {
      "text/plain": [
       "0.9576643713040772"
      ]
     },
     "execution_count": 39,
     "metadata": {},
     "output_type": "execute_result"
    }
   ],
   "source": [
    "from sklearn.model_selection import cross_val_score\n",
    "\n",
    "cv_method_ttest = StratifiedKFold(n_splits=10, random_state=111)\n",
    "\n",
    "cv_results_KNN = cross_val_score(estimator=gs_pipe_KNN.best_estimator_,\n",
    "                                 X=Data_test,\n",
    "                                 y=target_test, \n",
    "                                 cv=cv_method_ttest, \n",
    "                                 n_jobs=-2,\n",
    "                                 scoring='roc_auc')\n",
    "cv_results_KNN.mean()"
   ]
  },
  {
   "cell_type": "code",
   "execution_count": 40,
   "metadata": {},
   "outputs": [
    {
     "data": {
      "text/plain": [
       "0.9542650949268596"
      ]
     },
     "execution_count": 40,
     "metadata": {},
     "output_type": "execute_result"
    }
   ],
   "source": [
    "Data_test_transformed = PowerTransformer().fit_transform(Data_test)\n",
    "\n",
    "cv_results_NB = cross_val_score(estimator=gs_pipe_NB.best_estimator_,\n",
    "                                X=Data_test_transformed,\n",
    "                                y=target_test, \n",
    "                                cv=cv_method_ttest, \n",
    "                                n_jobs=-2,\n",
    "                                scoring='roc_auc')\n",
    "cv_results_NB.mean()"
   ]
  },
  {
   "cell_type": "code",
   "execution_count": 41,
   "metadata": {},
   "outputs": [
    {
     "data": {
      "text/plain": [
       "0.9640238873327108"
      ]
     },
     "execution_count": 41,
     "metadata": {},
     "output_type": "execute_result"
    }
   ],
   "source": [
    "cv_results_DT = cross_val_score(estimator=gs_pipe_DT2.best_estimator_,\n",
    "                                X=Data_test,\n",
    "                                y=target_test, \n",
    "                                cv=cv_method_ttest, \n",
    "                                n_jobs=-2,\n",
    "                                scoring='roc_auc')\n",
    "cv_results_DT.mean()"
   ]
  },
  {
   "cell_type": "markdown",
   "metadata": {},
   "source": [
    "Random state is remained unchanged for all the models throughout the whole cross-validation process and all the models are tested on the same test data proportions. \n",
    "\n",
    "\n",
    "`stats.ttest_rel` function from the `SciPy` will be in use as follow to perform paired t-tests on test data.\n"
   ]
  },
  {
   "cell_type": "code",
   "execution_count": 42,
   "metadata": {},
   "outputs": [
    {
     "name": "stdout",
     "output_type": "stream",
     "text": [
      "Ttest_relResult(statistic=0.48510970844747814, pvalue=0.639188034536948)\n",
      "Ttest_relResult(statistic=0.7710520766478061, pvalue=0.460438658342711)\n",
      "Ttest_relResult(statistic=1.5108825297237576, pvalue=0.16510321083585638)\n"
     ]
    }
   ],
   "source": [
    "from scipy import stats\n",
    "\n",
    "print(stats.ttest_rel(cv_results_KNN, cv_results_NB))\n",
    "print(stats.ttest_rel(cv_results_DT, cv_results_KNN))\n",
    "print(stats.ttest_rel(cv_results_DT, cv_results_NB))"
   ]
  },
  {
   "cell_type": "markdown",
   "metadata": {},
   "source": [
    "In order to have a significant test or paired t-test to be statistically significant, p-value has to be smaller than 0.05. But with the results we obtained, all the p-values of the three tests are slightly insignificant as they above the value of 0.05. Therefore, this **difference is not statistically significant and it will be tough to compare the results of the models.** However, DT has the highest score out or the accuracy level for test data out of all three fitted classification models. \n",
    "\n"
   ]
  },
  {
   "cell_type": "markdown",
   "metadata": {},
   "source": [
    "\n",
    "AUC is a good method to optimize hyperparemeters, but it is always essential to observe following metrics under the evaluation of the models.\n",
    "\n",
    "* Accuracy\n",
    "* Precision\n",
    "* Recall\n",
    "* F1 Score (the harmonic average of precision and recall)\n",
    "* Confusion Matrix\n",
    "\n",
    "`classification_report` from `sklearn.metrics` can be used to generate results from those metrics as below."
   ]
  },
  {
   "cell_type": "code",
   "execution_count": 43,
   "metadata": {},
   "outputs": [],
   "source": [
    "pred_KNN = gs_pipe_KNN.predict(Data_test)"
   ]
  },
  {
   "cell_type": "code",
   "execution_count": 44,
   "metadata": {},
   "outputs": [],
   "source": [
    "Data_test_transformed = PowerTransformer().fit_transform(Data_test)\n",
    "pred_NB = gs_pipe_NB.predict(Data_test_transformed)"
   ]
  },
  {
   "cell_type": "code",
   "execution_count": 45,
   "metadata": {},
   "outputs": [],
   "source": [
    "pred_DT = gs_pipe_DT2.predict(Data_test)"
   ]
  },
  {
   "cell_type": "code",
   "execution_count": 46,
   "metadata": {},
   "outputs": [
    {
     "name": "stdout",
     "output_type": "stream",
     "text": [
      "\n",
      "Classification report for K-Nearest Neighbor\n",
      "              precision    recall  f1-score   support\n",
      "\n",
      "           0       0.91      1.00      0.95      1356\n",
      "           1       1.00      0.11      0.20       144\n",
      "\n",
      "   micro avg       0.91      0.91      0.91      1500\n",
      "   macro avg       0.96      0.56      0.58      1500\n",
      "weighted avg       0.92      0.91      0.88      1500\n",
      "\n",
      "\n",
      "Classification report for Naive Bayes\n",
      "              precision    recall  f1-score   support\n",
      "\n",
      "           0       0.95      0.96      0.96      1356\n",
      "           1       0.61      0.54      0.57       144\n",
      "\n",
      "   micro avg       0.92      0.92      0.92      1500\n",
      "   macro avg       0.78      0.75      0.77      1500\n",
      "weighted avg       0.92      0.92      0.92      1500\n",
      "\n",
      "\n",
      "Classification report for Decision Tree\n",
      "              precision    recall  f1-score   support\n",
      "\n",
      "           0       0.98      1.00      0.99      1356\n",
      "           1       0.99      0.82      0.90       144\n",
      "\n",
      "   micro avg       0.98      0.98      0.98      1500\n",
      "   macro avg       0.99      0.91      0.94      1500\n",
      "weighted avg       0.98      0.98      0.98      1500\n",
      "\n"
     ]
    }
   ],
   "source": [
    "from sklearn import metrics\n",
    "print(\"\\nClassification report for K-Nearest Neighbor\") \n",
    "print(metrics.classification_report(target_test, pred_KNN))\n",
    "print(\"\\nClassification report for Naive Bayes\") \n",
    "print(metrics.classification_report(target_test, pred_NB))\n",
    "print(\"\\nClassification report for Decision Tree\") \n",
    "print(metrics.classification_report(target_test, pred_DT))"
   ]
  },
  {
   "cell_type": "markdown",
   "metadata": {},
   "source": [
    "Confusion matrices can be observed as below."
   ]
  },
  {
   "cell_type": "code",
   "execution_count": 47,
   "metadata": {},
   "outputs": [
    {
     "name": "stdout",
     "output_type": "stream",
     "text": [
      "\n",
      "Confusion matrix for K-Nearest Neighbor\n",
      "[[1356    0]\n",
      " [ 128   16]]\n",
      "\n",
      "Confusion matrix for Naive Bayes\n",
      "[[1306   50]\n",
      " [  66   78]]\n",
      "\n",
      "Confusion matrix for Decision Tree\n",
      "[[1355    1]\n",
      " [  26  118]]\n"
     ]
    }
   ],
   "source": [
    "from sklearn import metrics\n",
    "print(\"\\nConfusion matrix for K-Nearest Neighbor\") \n",
    "print(metrics.confusion_matrix(target_test, pred_KNN))\n",
    "print(\"\\nConfusion matrix for Naive Bayes\") \n",
    "print(metrics.confusion_matrix(target_test, pred_NB))\n",
    "print(\"\\nConfusion matrix for Decision Tree\") \n",
    "print(metrics.confusion_matrix(target_test, pred_DT))"
   ]
  },
  {
   "cell_type": "markdown",
   "metadata": {},
   "source": [
    "In this project, bank would be keen to identify potential customers who are going to take the loan rather than the ones who will reject the loan facility. Therefore, focusing on the true positives would be better and **recall** captures how many of actual positive our model capture and make them as positive. Therefore, it is better to find out the model which gives higher recall values. In that aspect, DT is also in the top compared to NB and KNN models. \n",
    "\n",
    "Overall, DT performs well according to AUC metric and even provides better results when observed the confusion matrix as well. Though, paired t-tests were not significant to make the decision that DT performs much better for this particular dataset, we can conclude that optimized DT is the best model compared to optimized KNN and optimized NB even considering the results from confusion matrix. "
   ]
  },
  {
   "cell_type": "markdown",
   "metadata": {},
   "source": [
    "# Limitations and Proposed Solutions <a class=\"anchor\" id=\"6\"></a> \n",
    "\n",
    "As every model has its' and drawbacks our model also has some limitations as well. In our analysis, we mainly focused on predictive performance and still we can improve our analysis by going for more depth analysis specially in feature selection process and selection of values of hyperparameter tuning which are quite important.\n",
    "\n",
    "We performed training and testing with shorter run times and that has to be performed in a correct manner in order to rely heavily on the results. At the same time, it is better to feed more data in to models since our dataset is not that larger even it is not small in observations. \n",
    "\n",
    "There is the class imbalance problem in our dataset as well where negative class has far more observations than positive class. This has to be improved to gain better results as well as to be dependent on the final outcomes of the chosen model. \n",
    "\n",
    "Our results for paired t-tests were not significant for all the possible combinations and it is not a good indication when it comes to comparison between models.\n",
    "\n",
    "As we observed, DT outperforms optimized NB and optimized KNN models with AUC metric as well other evaluation metrics such as recall and precision. Therefore, we can further improve the optimized DT model by working more with expanding search space for hyperparameter tuning. Here, we did not focus on other classification models such as Random Forests and Ensemble methods where they might perform better with this dataset to provide far better results.\n"
   ]
  },
  {
   "cell_type": "markdown",
   "metadata": {},
   "source": [
    "# Summary <a class=\"anchor\" id=\"7\"></a> \n",
    "\n",
    "Optimized Decision Tree model with 10 of the best features, depth of the tree as 3 and minimum number of splits as 2 was selected by Random Forest Importance (RFI) with the highest AUC score for the training data. We performed cross-validation to gain those results. Even after we evaluated on the test data, DT performed way ahead than that of NB and KNN in terms of AUC score and other evaluation matrices such as recall and precision. Insignificant result for all the paired t-tests was a concerning outcome of the analysis. DT was selected as the best model since it performed well for all the evaluation tasks despite of outcome of the paired t-tests. \n"
   ]
  },
  {
   "cell_type": "markdown",
   "metadata": {},
   "source": [
    "# References\n",
    "\n",
    "* Jake VanderPlas, O'Reilly (2016). Whirlwind Tour of Python [online]. Available at\n",
    "https://jakevdp.github.io/WhirlwindTourOfPython [Accessed 2019-05-29]\n",
    "\n",
    "* Jake VanderPlas, O'Reilly (2016). Python Data Science Handbook [online]. Available at\n",
    "https://jakevdp.github.io/PythonDataScienceHandbook [Accessed 2019-05-29]\n"
   ]
  }
 ],
 "metadata": {
  "kernelspec": {
   "display_name": "Python 3",
   "language": "python",
   "name": "python3"
  },
  "language_info": {
   "codemirror_mode": {
    "name": "ipython",
    "version": 3
   },
   "file_extension": ".py",
   "mimetype": "text/x-python",
   "name": "python",
   "nbconvert_exporter": "python",
   "pygments_lexer": "ipython3",
   "version": "3.7.3"
  }
 },
 "nbformat": 4,
 "nbformat_minor": 2
}
